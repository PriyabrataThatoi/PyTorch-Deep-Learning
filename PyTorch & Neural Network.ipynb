{
 "cells": [
  {
   "cell_type": "markdown",
   "metadata": {},
   "source": [
    "### PyTorch Libraries"
   ]
  },
  {
   "cell_type": "code",
   "execution_count": 1,
   "metadata": {},
   "outputs": [],
   "source": [
    "import torch\n",
    "import torchvision\n",
    "from torchvision import transforms, datasets\n",
    "import torch.nn as nn\n",
    "import torch.nn.functional as F\n",
    "import torch.optim as optim\n",
    "from sklearn.metrics import confusion_matrix"
   ]
  },
  {
   "cell_type": "markdown",
   "metadata": {},
   "source": [
    "### Extarct Transform & Loading "
   ]
  },
  {
   "cell_type": "code",
   "execution_count": 2,
   "metadata": {},
   "outputs": [],
   "source": [
    "# using torchvision to access the dataset\n",
    "# using torchvision.transform, image is transformed\n",
    "# into pytorch.tensors\n",
    "# 60,000 images in training data\n",
    "# 10,000 images in testing data\n",
    "\n",
    "'''\n",
    "EXTRACT & TRANSFORM\n",
    "'''\n",
    "\n",
    "train = datasets.FashionMNIST(\"\",\n",
    "                       train=True,\n",
    "                       download=True,\n",
    "                       transform=transforms.Compose([transforms.ToTensor()]))  \n",
    "test = datasets.FashionMNIST(\"\",\n",
    "                       train=False,\n",
    "                       download=True,\n",
    "                       transform=transforms.Compose([transforms.ToTensor()]))  "
   ]
  },
  {
   "cell_type": "code",
   "execution_count": 3,
   "metadata": {},
   "outputs": [],
   "source": [
    "# Dataloader wraps the dataset into\n",
    "# dataloader instance, which is helpful \n",
    "# to perform specific operations such as\n",
    "# batching(size=10), shuffle etc.\n",
    "\n",
    "'''\n",
    "LOADING DATA\n",
    "'''\n",
    "\n",
    "trainset = torch.utils.data.DataLoader(train,batch_size=10,shuffle=True)\n",
    "testset = torch.utils.data.DataLoader(test,batch_size=10,shuffle=True)"
   ]
  },
  {
   "cell_type": "code",
   "execution_count": 4,
   "metadata": {},
   "outputs": [],
   "source": [
    "import numpy as np\n",
    "import matplotlib.pyplot as plt\n",
    "torch.set_printoptions(linewidth =120)"
   ]
  },
  {
   "cell_type": "markdown",
   "metadata": {},
   "source": [
    "### Analyzing datasets"
   ]
  },
  {
   "cell_type": "code",
   "execution_count": 5,
   "metadata": {
    "scrolled": true
   },
   "outputs": [
    {
     "name": "stdout",
     "output_type": "stream",
     "text": [
      "Bin count of labels in the training dataset  {0: 6000, 1: 6000, 2: 6000, 3: 6000, 4: 6000, 5: 6000, 6: 6000, 7: 6000, 8: 6000, 9: 6000}\n",
      "Bin count of labels in the test dataset  {0: 1000, 1: 1000, 2: 1000, 3: 1000, 4: 1000, 5: 1000, 6: 1000, 7: 1000, 8: 1000, 9: 1000}\n",
      "Dataset is balance as the labels are uniformly distributed\n"
     ]
    }
   ],
   "source": [
    "'''\n",
    "Creating a counter function to \n",
    "count the number of labels in \n",
    "each of the datasets i.e. train\n",
    "and test dataset\n",
    "\n",
    "'''\n",
    "\n",
    "total = 0\n",
    "counter_dict_tr = {0:0,1:0,2:0,3:0,4:0,5:0,6:0,7:0,8:0,9:0}\n",
    "counter_dict_test = {0:0,1:0,2:0,3:0,4:0,5:0,6:0,7:0,8:0,9:0}\n",
    "\n",
    "for data in trainset:\n",
    "    xs,ys = data\n",
    "    for y in ys:\n",
    "        counter_dict_tr[int(y)]+=1\n",
    "        total+=1\n",
    "        \n",
    "for data in testset:\n",
    "    xs,ys = data\n",
    "    for y in ys:\n",
    "        counter_dict_test[int(y)]+=1\n",
    "        total+=1\n",
    "        \n",
    "print('Bin count of labels in the training dataset ' ,  counter_dict_tr)\n",
    "print('Bin count of labels in the test dataset ' ,  counter_dict_test)\n",
    "print('Dataset is balance as the labels are uniformly distributed')"
   ]
  },
  {
   "cell_type": "code",
   "execution_count": 6,
   "metadata": {},
   "outputs": [
    {
     "name": "stdout",
     "output_type": "stream",
     "text": [
      "2\n",
      "<class 'list'>\n"
     ]
    }
   ],
   "source": [
    "# Acessing one single sample for analysis\n",
    "# it uses sequence unpacking or list\n",
    "# unpacking of object\n",
    "\n",
    "sample = next(iter(trainset))\n",
    "print(len(sample))\n",
    "print(type(sample))\n",
    "image,label = sample "
   ]
  },
  {
   "cell_type": "code",
   "execution_count": 7,
   "metadata": {},
   "outputs": [
    {
     "name": "stdout",
     "output_type": "stream",
     "text": [
      "torch.Size([10, 1, 28, 28])\n",
      "torch.Size([10])\n",
      "label : tensor(1)\n"
     ]
    },
    {
     "data": {
      "image/png": "[encoded data removed]",
      "text/plain": [
       "<Figure size 432x288 with 1 Axes>"
      ]
     },
     "metadata": {
      "needs_background": "light"
     },
     "output_type": "display_data"
    }
   ],
   "source": [
    "# Ploting the image in the sample[0][0]\n",
    "# Plotting the lable of the sample[0]\n",
    "\n",
    "print(image.shape)\n",
    "print(label.shape)\n",
    "plt.imshow(image[0][0].view(28,28),cmap='gray');\n",
    "print('label :' ,label[0])"
   ]
  },
  {
   "cell_type": "code",
   "execution_count": 8,
   "metadata": {},
   "outputs": [
    {
     "name": "stdout",
     "output_type": "stream",
     "text": [
      "labels: tensor([1, 4, 8, 4, 3, 3, 1, 2, 7, 8])\n"
     ]
    },
    {
     "data": {
      "image/png": "[encoded data removed]",
      "text/plain": [
       "<Figure size 1800x2160 with 1 Axes>"
      ]
     },
     "metadata": {
      "needs_background": "light"
     },
     "output_type": "display_data"
    }
   ],
   "source": [
    "# printing the items of the batch\n",
    "# using grid utility function\n",
    "\n",
    "grid = torchvision.utils.make_grid(image,nrow=10)\n",
    "plt.figure(figsize=(25,30))\n",
    "plt.imshow(np.transpose(grid,(1,2,0)))\n",
    "print('labels:',label)"
   ]
  },
  {
   "cell_type": "markdown",
   "metadata": {},
   "source": [
    "### Modeling"
   ]
  },
  {
   "cell_type": "code",
   "execution_count": 9,
   "metadata": {},
   "outputs": [
    {
     "name": "stdout",
     "output_type": "stream",
     "text": [
      "Network(\n",
      "  (conv1): Conv2d(1, 6, kernel_size=(5, 5), stride=(1, 1))\n",
      "  (conv2): Conv2d(6, 12, kernel_size=(5, 5), stride=(1, 1))\n",
      "  (fc1): Linear(in_features=192, out_features=120, bias=True)\n",
      "  (fc2): Linear(in_features=120, out_features=60, bias=True)\n",
      "  (out): Linear(in_features=60, out_features=10, bias=True)\n",
      ")\n"
     ]
    }
   ],
   "source": [
    "class Network(nn.Module):\n",
    "    '''\n",
    "    Creating Neural Network class through\n",
    "    1. extending the base neural network module of pytorch\n",
    "    2. creating layers both convolutional and linear for CNN model\n",
    "    3. assigning hyperparameters & data-dependent parameters\n",
    "    that uses the inheritance method to use all the module functionality\n",
    "    and allows the user to add their own custome functionality or change \n",
    "    the existing function using ( __ repr__) function\n",
    "    \n",
    "    Hyperparameters : out_channels, kernel_size(5,5), out_features\n",
    "    Data dependent parameters : in_channel, out_feature at the last\n",
    "    \n",
    "    '''\n",
    "    def __init__(self):\n",
    "        super().__init__() # extending the Pytorch nn module class\n",
    "        \n",
    "        self.conv1 = nn.Conv2d(in_channels =1,out_channels = 6,kernel_size = 5,stride =1)\n",
    "        self.conv2 = nn.Conv2d(in_channels =6,out_channels = 12,kernel_size = 5,stride =1)\n",
    "        self.fc1 = nn.Linear(in_features = 12*4*4,out_features=120,bias = True)\n",
    "        self.fc2 = nn.Linear(in_features = 120,out_features=60,bias =True)\n",
    "        self.out = nn.Linear(60,10)\n",
    "    \n",
    "    def forward(self,t):\n",
    "        # input layer (generally not required as all the data are passed to next layer without any change)\n",
    "        t=t\n",
    "        \n",
    "        # hidden layer -1\n",
    "        t=self.conv1(t)\n",
    "        t=F.relu(t)\n",
    "        t=F.max_pool2d(t,kernel_size=2,stride=2)\n",
    "        \n",
    "        # hidden layer -2\n",
    "        t=self.conv2(t)\n",
    "        t=F.relu(t)\n",
    "        t=F.max_pool2d(t,kernel_size=2,stride=2)\n",
    "        \n",
    "        # hidden linear layer -1\n",
    "        t=t.reshape(-1,12*4*4)\n",
    "        t=self.fc1(t)\n",
    "        t=F.relu(t)\n",
    "        \n",
    "        # hidden linear layer -2\n",
    "        t=self.fc2(t)\n",
    "        t=F.relu(t)\n",
    "        \n",
    "        # output layer\n",
    "        t=self.out(t)\n",
    "        #t=F.softmax(t)\n",
    "        \n",
    "        return t\n",
    "        \n",
    "        \n",
    "network = Network()\n",
    "print(network)\n"
   ]
  },
  {
   "cell_type": "code",
   "execution_count": 10,
   "metadata": {},
   "outputs": [
    {
     "name": "stdout",
     "output_type": "stream",
     "text": [
      "conv1.weight \t\t torch.Size([6, 1, 5, 5])\n",
      "conv1.bias \t\t torch.Size([6])\n",
      "conv2.weight \t\t torch.Size([12, 6, 5, 5])\n",
      "conv2.bias \t\t torch.Size([12])\n",
      "fc1.weight \t\t torch.Size([120, 192])\n",
      "fc1.bias \t\t torch.Size([120])\n",
      "fc2.weight \t\t torch.Size([60, 120])\n",
      "fc2.bias \t\t torch.Size([60])\n",
      "out.weight \t\t torch.Size([10, 60])\n",
      "out.bias \t\t torch.Size([10])\n"
     ]
    }
   ],
   "source": [
    "# Parameters in the CNN model\n",
    "for name,param in network.named_parameters():\n",
    "    print(name,'\\t\\t',param.shape)"
   ]
  },
  {
   "cell_type": "markdown",
   "metadata": {},
   "source": [
    "### Training with a single batch"
   ]
  },
  {
   "cell_type": "code",
   "execution_count": 11,
   "metadata": {},
   "outputs": [
    {
     "name": "stdout",
     "output_type": "stream",
     "text": [
      "torch.Size([10, 1, 28, 28])\n",
      "torch.Size([10])\n"
     ]
    }
   ],
   "source": [
    "# Training the model with a batch of 10 images\n",
    "\n",
    "batch = next(iter(trainset))\n",
    "images,labels = batch\n",
    "print(images.shape)\n",
    "print(labels.shape)"
   ]
  },
  {
   "cell_type": "code",
   "execution_count": 13,
   "metadata": {},
   "outputs": [
    {
     "name": "stdout",
     "output_type": "stream",
     "text": [
      "torch.Size([10, 10])\n"
     ]
    },
    {
     "data": {
      "text/plain": [
       "tensor([[ 0.1166, -0.0759,  0.1115,  0.1145, -0.0509,  0.1428,  0.0515, -0.0891, -0.0794,  0.0160],\n",
       "        [ 0.1169, -0.0836,  0.1098,  0.1024, -0.0415,  0.1579,  0.0408, -0.1022, -0.0758,  0.0102],\n",
       "        [ 0.1182, -0.0716,  0.1069,  0.1079, -0.0492,  0.1473,  0.0493, -0.0889, -0.0773,  0.0145],\n",
       "        [ 0.1168, -0.0758,  0.1097,  0.1049, -0.0424,  0.1464,  0.0440, -0.0920, -0.0774,  0.0141],\n",
       "        [ 0.1247, -0.0815,  0.1057,  0.1173, -0.0385,  0.1629,  0.0470, -0.0934, -0.0780,  0.0028],\n",
       "        [ 0.1164, -0.0846,  0.1108,  0.1082, -0.0360,  0.1608,  0.0415, -0.0944, -0.0722,  0.0068],\n",
       "        [ 0.1205, -0.0764,  0.1076,  0.1073, -0.0419,  0.1606,  0.0436, -0.0944, -0.0707,  0.0051],\n",
       "        [ 0.1204, -0.0851,  0.1120,  0.1146, -0.0394,  0.1577,  0.0462, -0.0954, -0.0741,  0.0065],\n",
       "        [ 0.1224, -0.0694,  0.1054,  0.1086, -0.0430,  0.1557,  0.0485, -0.0943, -0.0715,  0.0101],\n",
       "        [ 0.1218, -0.0842,  0.1093,  0.1125, -0.0395,  0.1540,  0.0459, -0.0908, -0.0740,  0.0070]],\n",
       "       grad_fn=<AddmmBackward>)"
      ]
     },
     "execution_count": 13,
     "metadata": {},
     "output_type": "execute_result"
    }
   ],
   "source": [
    "# prediction\n",
    "'''\n",
    "The batch with 10 images are processed\n",
    "in the neural network model and the \n",
    "probability is calculated using the\n",
    "softmax function for each class row wise\n",
    "\n",
    "'''\n",
    "pred = network(images)\n",
    "print(pred.shape)\n",
    "pred\n",
    "\n"
   ]
  },
  {
   "cell_type": "code",
   "execution_count": 14,
   "metadata": {},
   "outputs": [
    {
     "data": {
      "text/plain": [
       "tensor([5, 5, 5, 5, 5, 5, 5, 5, 5, 5])"
      ]
     },
     "execution_count": 14,
     "metadata": {},
     "output_type": "execute_result"
    }
   ],
   "source": [
    "'''\n",
    "using argmax function to determine\n",
    "the index of the maximum occuring\n",
    "probability for each image in the \n",
    "the batch\n",
    "\n",
    "'''\n",
    "pred.argmax(dim=1)"
   ]
  },
  {
   "cell_type": "code",
   "execution_count": 15,
   "metadata": {},
   "outputs": [
    {
     "name": "stdout",
     "output_type": "stream",
     "text": [
      "tensor([5, 9, 5, 8, 6, 4, 8, 1, 5, 0])\n",
      "tensor([ True, False,  True, False, False, False, False, False,  True, False])\n",
      "Total correct predictions : 3\n"
     ]
    }
   ],
   "source": [
    "'''\n",
    "\n",
    "comparison between the original\n",
    "labels & predicted labels from \n",
    "the model\n",
    "\n",
    "'''\n",
    "print(labels)\n",
    "print(pred.argmax(dim=1).eq(labels))\n",
    "\n",
    "def get_correct_pred(pred,labels):\n",
    "    return pred.argmax(dim=1).eq(labels).sum().item()\n",
    "\n",
    "print('Total correct predictions :',get_correct_pred(pred,labels))"
   ]
  },
  {
   "cell_type": "markdown",
   "metadata": {},
   "source": [
    "### Calculating Loss. Gradient & Update Weights"
   ]
  },
  {
   "cell_type": "code",
   "execution_count": 16,
   "metadata": {},
   "outputs": [
    {
     "name": "stdout",
     "output_type": "stream",
     "text": [
      "Gradient values initially None\n"
     ]
    }
   ],
   "source": [
    "# Calculate Gradient\n",
    "\n",
    "print('Gradient values initially',network.conv1.weight.grad)"
   ]
  },
  {
   "cell_type": "code",
   "execution_count": 18,
   "metadata": {},
   "outputs": [],
   "source": [
    "# Calculate Loss & optimize\n",
    "optimizer = optim.Adam(network.parameters(),lr=0.01)\n",
    "\n",
    "batch = next(iter(trainset))\n",
    "images,labels=batch\n",
    "pred = network(images)\n",
    "loss = F.cross_entropy(pred,labels)\n",
    "loss.backward()\n",
    "optimizer.step()"
   ]
  },
  {
   "cell_type": "code",
   "execution_count": 19,
   "metadata": {},
   "outputs": [
    {
     "name": "stdout",
     "output_type": "stream",
     "text": [
      "Gradient values after torch.Size([6, 1, 5, 5])\n"
     ]
    }
   ],
   "source": [
    "print('Gradient values after',network.conv1.weight.grad.shape)"
   ]
  },
  {
   "cell_type": "code",
   "execution_count": 20,
   "metadata": {},
   "outputs": [
    {
     "name": "stdout",
     "output_type": "stream",
     "text": [
      "2.2915780544281006\n"
     ]
    }
   ],
   "source": [
    "print(loss.item())"
   ]
  },
  {
   "cell_type": "markdown",
   "metadata": {},
   "source": [
    "### Training with all batches : A single epoch"
   ]
  },
  {
   "cell_type": "code",
   "execution_count": 21,
   "metadata": {},
   "outputs": [
    {
     "name": "stdout",
     "output_type": "stream",
     "text": [
      "loss: tensor(0.4184, grad_fn=<NllLossBackward>)\n"
     ]
    }
   ],
   "source": [
    "train_loader = torch.utils.data.DataLoader(train,batch_size=100)\n",
    "epochs = 1\n",
    "\n",
    "\n",
    "for epocs in range(epochs):\n",
    "    \n",
    "    '''\n",
    "    For each epoch, loop will fetch a batch,\n",
    "    predict the values, calculate the loss,\n",
    "    optimize the loss, upgrade the loss,\n",
    "    repeat for the next epoch\n",
    "    \n",
    "    '''\n",
    "    \n",
    "    \n",
    "    \n",
    "    total_loss=0\n",
    "    total_correct=0\n",
    "    \n",
    "    for batch in train_loader: # Get Batch\n",
    "        images,labels = batch\n",
    "        \n",
    "        network.zero_grad()\n",
    "        output = network(images.view(100,1,28,28)) # Pass Batch\n",
    "        loss=F.cross_entropy(output,labels) # Calculate loss\n",
    "        \n",
    "        optimizer.zero_grad()\n",
    "        loss.backward() # Calculate Gradients\n",
    "        optimizer.step() # Update Weights\n",
    "        \n",
    "        total_loss += loss.item()\n",
    "        total_correct += get_correct_pred(output,labels)\n",
    "    print(\"loss:\",loss)"
   ]
  },
  {
   "cell_type": "code",
   "execution_count": 23,
   "metadata": {},
   "outputs": [
    {
     "name": "stdout",
     "output_type": "stream",
     "text": [
      "Total % correct prediction  0.7757833333333334\n"
     ]
    }
   ],
   "source": [
    "print('Total % correct prediction ',total_correct/(len(train_loader)*100) )"
   ]
  },
  {
   "cell_type": "markdown",
   "metadata": {},
   "source": [
    "### Training with all batches : multiple epochs"
   ]
  },
  {
   "cell_type": "code",
   "execution_count": 25,
   "metadata": {},
   "outputs": [
    {
     "name": "stdout",
     "output_type": "stream",
     "text": [
      "Total loss for epoch  0  is  245.59384287893772\n",
      "Accuray for epoch  0  is  84.79 %\n",
      "Total loss for epoch  1  is  226.8136183321476\n",
      "Accuray for epoch  1  is  85.83 %\n",
      "Total loss for epoch  2  is  219.9233556240797\n",
      "Accuray for epoch  2  is  86.31 %\n",
      "Total loss for epoch  3  is  213.881880864501\n",
      "Accuray for epoch  3  is  86.61 %\n",
      "Total loss for epoch  4  is  209.16456937789917\n",
      "Accuray for epoch  4  is  87.00 %\n"
     ]
    }
   ],
   "source": [
    "epochs= 5\n",
    "for epoch in range(epochs):\n",
    "    \n",
    "    total_loss=0\n",
    "    total_correct=0\n",
    "    \n",
    "    for batch in train_loader: # Get Batch\n",
    "        images,labels = batch\n",
    "        \n",
    "        network.zero_grad()\n",
    "        output = network(images.view(100,1,28,28)) # Pass Batch\n",
    "        loss=F.cross_entropy(output,labels) # Calculate loss\n",
    "        \n",
    "        optimizer.zero_grad()\n",
    "        loss.backward() # Calculate Gradients\n",
    "        optimizer.step() # Update Weights\n",
    "        \n",
    "        total_loss += loss.item()\n",
    "        total_correct += get_correct_pred(output,labels)\n",
    "        \n",
    "    print(\"Total loss for epoch \",epoch, \" is \",total_loss)\n",
    "    print('Accuray for epoch ',epoch, \" is \",\"{0:.2f}\".format(total_correct*100/(len(train_loader)*100)),'%' )"
   ]
  },
  {
   "cell_type": "markdown",
   "metadata": {},
   "source": [
    "### Analyzing CNN Results - Builing & Plotting a Confusion Matrix"
   ]
  },
  {
   "cell_type": "code",
   "execution_count": 26,
   "metadata": {},
   "outputs": [],
   "source": [
    "'''\n",
    "Creating a function to collect\n",
    "all the prediction on the batches\n",
    "of the trainset and concatenate \n",
    "into a single prediction tensor\n",
    "\n",
    "'''\n",
    "\n",
    "def get_all_preds(model,loader):\n",
    "    all_preds=torch.tensor([])\n",
    "    for batch in loader:\n",
    "        images, labels = batch\n",
    "        preds = model(images)\n",
    "        all_preds=torch.cat((all_preds,preds),dim=0)\n",
    "    return all_preds"
   ]
  },
  {
   "cell_type": "code",
   "execution_count": 33,
   "metadata": {},
   "outputs": [],
   "source": [
    "# Increasing the batch size to gather\n",
    "# all the predictions of 60,000 images\n",
    "\n",
    "with torch.no_grad():\n",
    "    prediction_loader = torch.utils.data.DataLoader(train,batch_size =10000)\n",
    "    train_pred = get_all_preds(network, prediction_loader)"
   ]
  },
  {
   "cell_type": "code",
   "execution_count": 35,
   "metadata": {},
   "outputs": [
    {
     "name": "stdout",
     "output_type": "stream",
     "text": [
      "Total correct prediction from CNN model is  51588\n"
     ]
    }
   ],
   "source": [
    "# Calculating total number of correct preds\n",
    "\n",
    "print('Total correct prediction from CNN model is ',get_correct_pred(train_pred,train.targets))"
   ]
  },
  {
   "cell_type": "code",
   "execution_count": 36,
   "metadata": {},
   "outputs": [
    {
     "data": {
      "text/plain": [
       "tensor([9, 0, 0,  ..., 3, 0, 5])"
      ]
     },
     "execution_count": 36,
     "metadata": {},
     "output_type": "execute_result"
    }
   ],
   "source": [
    "# Comparing the predictions\n",
    "\n",
    "train.targets"
   ]
  },
  {
   "cell_type": "code",
   "execution_count": 37,
   "metadata": {},
   "outputs": [
    {
     "data": {
      "text/plain": [
       "tensor([9, 0, 0,  ..., 3, 0, 5])"
      ]
     },
     "execution_count": 37,
     "metadata": {},
     "output_type": "execute_result"
    }
   ],
   "source": [
    "train_pred.argmax(dim=1)"
   ]
  },
  {
   "cell_type": "code",
   "execution_count": 38,
   "metadata": {},
   "outputs": [],
   "source": [
    "# Pairing up the predictions & targets\n",
    "\n",
    "stacked = torch.stack(\n",
    "    (\n",
    "        train.targets,\n",
    "        train_pred.argmax(dim=1)\n",
    "    )\n",
    "    , dim =1 # column wise\n",
    ")"
   ]
  },
  {
   "cell_type": "code",
   "execution_count": 39,
   "metadata": {},
   "outputs": [
    {
     "data": {
      "text/plain": [
       "tensor([[9, 9],\n",
       "        [0, 0],\n",
       "        [0, 0],\n",
       "        ...,\n",
       "        [3, 3],\n",
       "        [0, 0],\n",
       "        [5, 5]])"
      ]
     },
     "execution_count": 39,
     "metadata": {},
     "output_type": "execute_result"
    }
   ],
   "source": [
    "stacked"
   ]
  },
  {
   "cell_type": "code",
   "execution_count": 40,
   "metadata": {},
   "outputs": [
    {
     "data": {
      "text/plain": [
       "tensor([[5405,  140,   96,  110,    6,    2,  207,    0,   33,    1],\n",
       "        [  10, 5918,    1,   47,    8,    5,    5,    0,    6,    0],\n",
       "        [  99,    9, 4707,  103,  606,    5,  431,    1,   38,    1],\n",
       "        [ 250,  307,   14, 5148,  180,    3,   82,    0,   15,    1],\n",
       "        [   9,   19,  556,  428, 4321,    0,  626,    0,   41,    0],\n",
       "        [   2,    1,    2,    1,    0, 5675,    1,  191,   44,   83],\n",
       "        [1577,   97,  622,  148,  367,    7, 3109,    0,   70,    3],\n",
       "        [   0,    0,    0,    0,    0,  103,    0, 5724,   16,  157],\n",
       "        [  17,   15,   31,   30,   13,   13,   52,    9, 5813,    7],\n",
       "        [   1,    0,    0,    1,    1,   39,    0,  187,    3, 5768]], dtype=torch.int32)"
      ]
     },
     "execution_count": 40,
     "metadata": {},
     "output_type": "execute_result"
    }
   ],
   "source": [
    "# Creating 10x10 confusion matrix\n",
    "\n",
    "cmt = torch.zeros(10,10,dtype=torch.int32)\n",
    "for p in stacked:\n",
    "    j,k = p.tolist()\n",
    "    cmt[j,k]=cmt[j,k]+1\n",
    "\n",
    "cmt"
   ]
  },
  {
   "cell_type": "code",
   "execution_count": 72,
   "metadata": {},
   "outputs": [],
   "source": [
    "def plot_confusion_matrix(cm, classes,\n",
    "                          normalize=False,\n",
    "                          title='Confusion matrix',\n",
    "                          cmap=plt.cm.Blues):\n",
    "    \"\"\"\n",
    "    This function prints and plots the confusion matrix.\n",
    "    Normalization can be applied by setting `normalize=True`.\n",
    "    \"\"\"\n",
    "    if normalize:\n",
    "        cm = cm.astype('float') / cm.sum(axis=1)[:, np.newaxis]\n",
    "        print(\"Normalized confusion matrix\")\n",
    "    else:\n",
    "        print('Confusion matrix, without normalization')\n",
    "\n",
    "    plt.imshow(cm, interpolation='nearest', cmap=cmap)\n",
    "    plt.title(title)\n",
    "    plt.colorbar()\n",
    "    tick_marks = np.arange(len(classes))\n",
    "    plt.xticks(tick_marks, classes, rotation=45)\n",
    "    plt.yticks(tick_marks, classes)\n",
    "\n",
    "    fmt = '.2f' if normalize else 'd'\n",
    "    thresh = cm.max() / 2.\n",
    "    for i in range (cm.shape[0]):\n",
    "        for j in range (cm.shape[1]):\n",
    "            plt.text(j, i, format(cm[i, j], fmt),\n",
    "                 horizontalalignment=\"center\",\n",
    "                 color=\"white\" if cm[i, j] > thresh else \"black\")\n",
    "\n",
    "    plt.ylabel('True label')\n",
    "    plt.xlabel('Predicted label')\n",
    "    plt.tight_layout()\n",
    "\n",
    "np.set_printoptions(precision=2)"
   ]
  },
  {
   "cell_type": "code",
   "execution_count": 74,
   "metadata": {},
   "outputs": [
    {
     "name": "stdout",
     "output_type": "stream",
     "text": [
      "Confusion matrix, without normalization\n"
     ]
    },
    {
     "data": {
      "image/png": "[encoded data removed]",
      "text/plain": [
       "<Figure size 1080x1080 with 2 Axes>"
      ]
     },
     "metadata": {
      "needs_background": "light"
     },
     "output_type": "display_data"
    }
   ],
   "source": [
    "names = ('T-shirt/top','Trouser','Pullover','Dress','Coat','Sandal','Shirt','Sneaker','Bag','Ankle boot')\n",
    "plt.figure(figsize=(15,15));\n",
    "plot_confusion_matrix(cmt, classes=names,\n",
    "                      title='Confusion matrix, without normalization');"
   ]
  },
  {
   "cell_type": "code",
   "execution_count": null,
   "metadata": {},
   "outputs": [],
   "source": []
  },
  {
   "cell_type": "markdown",
   "metadata": {},
   "source": [
    "### CNN MOdel"
   ]
  },
  {
   "cell_type": "code",
   "execution_count": 36,
   "metadata": {},
   "outputs": [
    {
     "name": "stdout",
     "output_type": "stream",
     "text": [
      "PetImages/Cat\n"
     ]
    },
    {
     "name": "stderr",
     "output_type": "stream",
     "text": [
      "100%|███████████████████████████████████████████████████████████████████████████| 12501/12501 [00:20<00:00, 609.88it/s]\n"
     ]
    },
    {
     "name": "stdout",
     "output_type": "stream",
     "text": [
      "PetImages/Dog\n"
     ]
    },
    {
     "name": "stderr",
     "output_type": "stream",
     "text": [
      "100%|███████████████████████████████████████████████████████████████████████████| 12501/12501 [00:21<00:00, 569.71it/s]\n"
     ]
    },
    {
     "name": "stdout",
     "output_type": "stream",
     "text": [
      "cats: 12476\n",
      "dogs 12470\n"
     ]
    }
   ],
   "source": [
    "import os \n",
    "import cv2\n",
    "import numpy as np\n",
    "from tqdm import tqdm\n",
    "os.chdir(r\"C:\\kagglecatsanddogs_3367a\")\n",
    "# to rebuild the data once\n",
    "# to avoid preprocessing of data\n",
    "REBUILD_DATA = True\n",
    "\n",
    "class DogsVsCats():\n",
    "    \n",
    "    '''\n",
    "    Class DogsVsCats will create the required\n",
    "    scale and size of images of cats and dogs.\n",
    "    It will also assign the labels while processing\n",
    "    the images and convert the pixels and labels\n",
    "    into the array of images\n",
    "    \n",
    "    '''\n",
    "    \n",
    "    img_size = 50 #to make uniform size\n",
    "    cats =\"PetImages/Cat\" # folder containing cat images\n",
    "    dogs =\"PetImages/Dog\" # folder containing dog images\n",
    "    labels = {cats:0,dogs:1} # labels for cats & dogs\n",
    "    training_data = [] # training data list\n",
    "    catcount=0 # initial count for cat\n",
    "    dogcount=0 # initial count for dog\n",
    "    \n",
    "    def make_training_data(self):\n",
    "         for label in self.labels:\n",
    "             print(label)\n",
    "             for f in tqdm(os.listdir(label)):\n",
    "                 try:\n",
    "                     path = os.path.join(label,f)\n",
    "                     # converting img into grayscale\n",
    "                     img = cv2.imread(path,cv2.IMREAD_GRAYSCALE)\n",
    "\n",
    "                     # resize the image into 50x50 pixels\n",
    "                     img = cv2.resize(img,(self.img_size,self.img_size))\n",
    "\n",
    "                     # convert the image into a 2-D array\n",
    "                     self.training_data.append([np.array(img),np.eye(2)[self.labels[label]]])\n",
    "\n",
    "                     # count the number of cats & dogs\n",
    "                     if label == self.cats:\n",
    "                         self.catcount +=1\n",
    "                     elif label == self.dogs:\n",
    "                         self.dogcount +=1\n",
    "                 except Exception  as e:\n",
    "                     pass\n",
    "        \n",
    "         \n",
    "         # once imported, shuffle the data \n",
    "         # save the file as numpy array file\n",
    "        \n",
    "         np.random.shuffle(self.training_data)\n",
    "         np.save('training_data.npy',self.training_data)\n",
    "         print(\"cats:\",self.catcount)\n",
    "         print('dogs',self.dogcount)\n",
    "         \n",
    "if REBUILD_DATA:\n",
    "         dogsvscats = DogsVsCats()\n",
    "         dogsvscats.make_training_data()"
   ]
  },
  {
   "cell_type": "code",
   "execution_count": 37,
   "metadata": {},
   "outputs": [],
   "source": [
    "training_data = np.load(\"training_data.npy\", allow_pickle=True)"
   ]
  },
  {
   "cell_type": "code",
   "execution_count": 45,
   "metadata": {},
   "outputs": [
    {
     "data": {
      "image/png": "[encoded data removed]",
      "text/plain": [
       "<Figure size 432x288 with 1 Axes>"
      ]
     },
     "metadata": {
      "needs_background": "light"
     },
     "output_type": "display_data"
    },
    {
     "data": {
      "text/plain": [
       "array([1., 0.])"
      ]
     },
     "execution_count": 45,
     "metadata": {},
     "output_type": "execute_result"
    }
   ],
   "source": [
    "# printing the image of the cat\n",
    "plt.imshow(training_data[1][0],cmap = \"gray\")\n",
    "plt.show()\n",
    "# label of the image 1\n",
    "training_data[1][1]"
   ]
  },
  {
   "cell_type": "code",
   "execution_count": null,
   "metadata": {},
   "outputs": [],
   "source": [
    "import torch\n",
    "import torch.nn as nn\n",
    "import torch.nn.functional as F\n",
    "\n",
    "Class Net(nn.Module):\n",
    "    def __init__(self):\n",
    "        super().__init__()\n",
    "        self.conv1 = nn.Conv2d(1,32,5)\n",
    "        self.conv2 = nn.Conv2d(32,64,5)\n",
    "        self.conv3 = nn.Conv2d(64,128,5)\n",
    "        "
   ]
  }
 ],
 "metadata": {
  "kernelspec": {
   "display_name": "Python 3",
   "language": "python",
   "name": "python3"
  },
  "language_info": {
   "codemirror_mode": {
    "name": "ipython",
    "version": 3
   },
   "file_extension": ".py",
   "mimetype": "text/x-python",
   "name": "python",
   "nbconvert_exporter": "python",
   "pygments_lexer": "ipython3",
   "version": "3.6.8"
  }
 },
 "nbformat": 4,
 "nbformat_minor": 2
}
