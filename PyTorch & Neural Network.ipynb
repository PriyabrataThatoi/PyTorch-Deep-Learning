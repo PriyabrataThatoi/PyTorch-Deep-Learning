{
 "cells": [
  {
   "cell_type": "markdown",
   "metadata": {},
   "source": [
    "### PyTorch Libraries"
   ]
  },
  {
   "cell_type": "code",
   "execution_count": 1,
   "metadata": {},
   "outputs": [],
   "source": [
    "import torch\n",
    "import torchvision\n",
    "from torchvision import transforms, datasets\n",
    "import torch.nn as nn\n",
    "import torch.nn.functional as F\n",
    "import torch.optim as optim"
   ]
  },
  {
   "cell_type": "markdown",
   "metadata": {},
   "source": [
    "### Extarct Transform & Loading "
   ]
  },
  {
   "cell_type": "code",
   "execution_count": 3,
   "metadata": {},
   "outputs": [
    {
     "name": "stdout",
     "output_type": "stream",
     "text": [
      "Downloading http://fashion-mnist.s3-website.eu-central-1.amazonaws.com/train-images-idx3-ubyte.gz to FashionMNIST\\raw\\train-images-idx3-ubyte.gz\n"
     ]
    },
    {
     "data": {
      "application/vnd.jupyter.widget-view+json": {
       "model_id": "732326d469724018ac5da01e9f9e0c83",
       "version_major": 2,
       "version_minor": 0
      },
      "text/plain": [
       "HBox(children=(IntProgress(value=1, bar_style='info', max=1), HTML(value='')))"
      ]
     },
     "metadata": {},
     "output_type": "display_data"
    },
    {
     "name": "stdout",
     "output_type": "stream",
     "text": [
      "\n",
      "Extracting FashionMNIST\\raw\\train-images-idx3-ubyte.gz to FashionMNIST\\raw\n",
      "Downloading http://fashion-mnist.s3-website.eu-central-1.amazonaws.com/train-labels-idx1-ubyte.gz to FashionMNIST\\raw\\train-labels-idx1-ubyte.gz\n"
     ]
    },
    {
     "data": {
      "application/vnd.jupyter.widget-view+json": {
       "model_id": "66327eeac6304d20a741f943a0a64822",
       "version_major": 2,
       "version_minor": 0
      },
      "text/plain": [
       "HBox(children=(IntProgress(value=1, bar_style='info', max=1), HTML(value='')))"
      ]
     },
     "metadata": {},
     "output_type": "display_data"
    },
    {
     "name": "stdout",
     "output_type": "stream",
     "text": [
      "\n",
      "Extracting FashionMNIST\\raw\\train-labels-idx1-ubyte.gz to FashionMNIST\\raw\n",
      "Downloading http://fashion-mnist.s3-website.eu-central-1.amazonaws.com/t10k-images-idx3-ubyte.gz to FashionMNIST\\raw\\t10k-images-idx3-ubyte.gz\n"
     ]
    },
    {
     "data": {
      "application/vnd.jupyter.widget-view+json": {
       "model_id": "6fce671b7084437290c5d77c7e42426c",
       "version_major": 2,
       "version_minor": 0
      },
      "text/plain": [
       "HBox(children=(IntProgress(value=1, bar_style='info', max=1), HTML(value='')))"
      ]
     },
     "metadata": {},
     "output_type": "display_data"
    },
    {
     "name": "stdout",
     "output_type": "stream",
     "text": [
      "\n",
      "Extracting FashionMNIST\\raw\\t10k-images-idx3-ubyte.gz to FashionMNIST\\raw\n",
      "Downloading http://fashion-mnist.s3-website.eu-central-1.amazonaws.com/t10k-labels-idx1-ubyte.gz to FashionMNIST\\raw\\t10k-labels-idx1-ubyte.gz\n"
     ]
    },
    {
     "data": {
      "application/vnd.jupyter.widget-view+json": {
       "model_id": "b5d02ad00ec14baea9d58dbb2e89c92c",
       "version_major": 2,
       "version_minor": 0
      },
      "text/plain": [
       "HBox(children=(IntProgress(value=1, bar_style='info', max=1), HTML(value='')))"
      ]
     },
     "metadata": {},
     "output_type": "display_data"
    },
    {
     "name": "stdout",
     "output_type": "stream",
     "text": [
      "\n",
      "Extracting FashionMNIST\\raw\\t10k-labels-idx1-ubyte.gz to FashionMNIST\\raw\n",
      "Processing...\n",
      "Done!\n"
     ]
    }
   ],
   "source": [
    "# using torchvision to access the dataset\n",
    "# using torchvision.transform, image is transformed\n",
    "# into pytorch.tensors\n",
    "# 60,000 images in training data\n",
    "# 10,000 images in testing data\n",
    "\n",
    "'''\n",
    "EXTRACT & TRANSFORM\n",
    "'''\n",
    "\n",
    "train = datasets.FashionMNIST(\"\",\n",
    "                       train=True,\n",
    "                       download=True,\n",
    "                       transform=transforms.Compose([transforms.ToTensor()]))  \n",
    "test = datasets.FashionMNIST(\"\",\n",
    "                       train=False,\n",
    "                       download=True,\n",
    "                       transform=transforms.Compose([transforms.ToTensor()]))  "
   ]
  },
  {
   "cell_type": "code",
   "execution_count": 4,
   "metadata": {},
   "outputs": [],
   "source": [
    "# Dataloader wraps the dataset into\n",
    "# dataloader instance, which is helpful \n",
    "# to perform specific operations such as\n",
    "# batching(size=10), shuffle etc.\n",
    "\n",
    "'''\n",
    "LOADING DATA\n",
    "'''\n",
    "\n",
    "trainset = torch.utils.data.DataLoader(train,batch_size=10,shuffle=True)\n",
    "testset = torch.utils.data.DataLoader(test,batch_size=10,shuffle=True)"
   ]
  },
  {
   "cell_type": "code",
   "execution_count": 5,
   "metadata": {},
   "outputs": [],
   "source": [
    "import numpy as np\n",
    "import matplotlib.pyplot as plt\n",
    "torch.set_printoptions(linewidth =120)"
   ]
  },
  {
   "cell_type": "markdown",
   "metadata": {},
   "source": [
    "### Analyzing datasets"
   ]
  },
  {
   "cell_type": "code",
   "execution_count": 27,
   "metadata": {
    "scrolled": true
   },
   "outputs": [
    {
     "name": "stdout",
     "output_type": "stream",
     "text": [
      "Bin count of labels in the training dataset  {0: 6000, 1: 6000, 2: 6000, 3: 6000, 4: 6000, 5: 6000, 6: 6000, 7: 6000, 8: 6000, 9: 6000}\n",
      "Bin count of labels in the test dataset  {0: 1000, 1: 1000, 2: 1000, 3: 1000, 4: 1000, 5: 1000, 6: 1000, 7: 1000, 8: 1000, 9: 1000}\n",
      "Dataset is balance as the labels are uniformly distributed\n"
     ]
    }
   ],
   "source": [
    "'''\n",
    "Creating a counter function to \n",
    "count the number of labels in \n",
    "each of the datasets i.e. train\n",
    "and test dataset\n",
    "\n",
    "'''\n",
    "\n",
    "total = 0\n",
    "counter_dict_tr = {0:0,1:0,2:0,3:0,4:0,5:0,6:0,7:0,8:0,9:0}\n",
    "counter_dict_test = {0:0,1:0,2:0,3:0,4:0,5:0,6:0,7:0,8:0,9:0}\n",
    "\n",
    "for data in trainset:\n",
    "    xs,ys = data\n",
    "    for y in ys:\n",
    "        counter_dict_tr[int(y)]+=1\n",
    "        total+=1\n",
    "        \n",
    "for data in testset:\n",
    "    xs,ys = data\n",
    "    for y in ys:\n",
    "        counter_dict_test[int(y)]+=1\n",
    "        total+=1\n",
    "        \n",
    "print('Bin count of labels in the training dataset ' ,  counter_dict_tr)\n",
    "print('Bin count of labels in the test dataset ' ,  counter_dict_test)\n",
    "print('Dataset is balance as the labels are uniformly distributed')"
   ]
  },
  {
   "cell_type": "code",
   "execution_count": 29,
   "metadata": {},
   "outputs": [
    {
     "name": "stdout",
     "output_type": "stream",
     "text": [
      "2\n",
      "<class 'list'>\n"
     ]
    }
   ],
   "source": [
    "# Acessing one single sample for analysis\n",
    "# it uses sequence unpacking or list\n",
    "# unpacking of object\n",
    "\n",
    "sample = next(iter(trainset))\n",
    "print(len(sample))\n",
    "print(type(sample))\n",
    "image,label = sample "
   ]
  },
  {
   "cell_type": "code",
   "execution_count": 50,
   "metadata": {},
   "outputs": [
    {
     "name": "stdout",
     "output_type": "stream",
     "text": [
      "torch.Size([10, 1, 28, 28])\n",
      "torch.Size([10])\n",
      "label : tensor(2)\n"
     ]
    },
    {
     "data": {
      "image/png": "[encoded data removed]",
      "text/plain": [
       "<Figure size 432x288 with 1 Axes>"
      ]
     },
     "metadata": {
      "needs_background": "light"
     },
     "output_type": "display_data"
    }
   ],
   "source": [
    "# Ploting the image in the sample[0][0]\n",
    "# Plotting the lable of the sample[0]\n",
    "\n",
    "print(image.shape)\n",
    "print(label.shape)\n",
    "plt.imshow(image[0][0].view(28,28),cmap='gray');\n",
    "print('label :' ,label[0])"
   ]
  },
  {
   "cell_type": "code",
   "execution_count": 55,
   "metadata": {},
   "outputs": [
    {
     "name": "stdout",
     "output_type": "stream",
     "text": [
      "labels: tensor([2, 2, 7, 2, 8, 9, 0, 2, 7, 5])\n"
     ]
    },
    {
     "data": {
      "image/png": "[encoded data removed]",
      "text/plain": [
       "<Figure size 1800x2160 with 1 Axes>"
      ]
     },
     "metadata": {
      "needs_background": "light"
     },
     "output_type": "display_data"
    }
   ],
   "source": [
    "# printing the items of the batch\n",
    "# using grid utility function\n",
    "\n",
    "grid = torchvision.utils.make_grid(image,nrow=10)\n",
    "plt.figure(figsize=(25,30))\n",
    "plt.imshow(np.transpose(grid,(1,2,0)))\n",
    "print('labels:',label)"
   ]
  },
  {
   "cell_type": "code",
   "execution_count": 12,
   "metadata": {},
   "outputs": [
    {
     "name": "stdout",
     "output_type": "stream",
     "text": [
      "tensor(6)\n"
     ]
    }
   ],
   "source": [
    "x,y= data[0][0],data[1][0]\n",
    "print(y)"
   ]
  },
  {
   "cell_type": "markdown",
   "metadata": {},
   "source": [
    "### Modeling"
   ]
  },
  {
   "cell_type": "code",
   "execution_count": 142,
   "metadata": {},
   "outputs": [
    {
     "name": "stdout",
     "output_type": "stream",
     "text": [
      "Network(\n",
      "  (conv1): Conv2d(1, 6, kernel_size=(5, 5), stride=(1, 1))\n",
      "  (conv2): Conv2d(6, 12, kernel_size=(5, 5), stride=(1, 1))\n",
      "  (fc1): Linear(in_features=192, out_features=120, bias=True)\n",
      "  (fc2): Linear(in_features=120, out_features=60, bias=True)\n",
      "  (out): Linear(in_features=60, out_features=10, bias=True)\n",
      ")\n"
     ]
    }
   ],
   "source": [
    "class Network(nn.Module):\n",
    "    '''\n",
    "    Creating Neural Network class through\n",
    "    1. extending the base neural network module of pytorch\n",
    "    2. creating layers both convolutional and linear for CNN model\n",
    "    3. assigning hyperparameters & data-dependent parameters\n",
    "    that uses the inheritance method to use all the module functionality\n",
    "    and allows the user to add their own custome functionality or change \n",
    "    the existing function using ( __ repr__) function\n",
    "    \n",
    "    Hyperparameters : out_channels, kernel_size(5,5), out_features\n",
    "    Data dependent parameters : in_channel, out_feature at the last\n",
    "    \n",
    "    '''\n",
    "    def __init__(self):\n",
    "        super().__init__() # extending the Pytorch nn module class\n",
    "        \n",
    "        self.conv1 = nn.Conv2d(in_channels =1,out_channels = 6,kernel_size = 5,stride =1)\n",
    "        self.conv2 = nn.Conv2d(in_channels =6,out_channels = 12,kernel_size = 5,stride =1)\n",
    "        self.fc1 = nn.Linear(in_features = 12*4*4,out_features=120,bias = True)\n",
    "        self.fc2 = nn.Linear(in_features = 120,out_features=60,bias =True)\n",
    "        self.out = nn.Linear(60,10)\n",
    "    \n",
    "    def forward(self,t):\n",
    "        # input layer (generally not required as all the data are passed to next layer without any change)\n",
    "        t=t\n",
    "        \n",
    "        # hidden layer -1\n",
    "        t=self.conv1(t)\n",
    "        t=F.relu(t)\n",
    "        t=F.max_pool2d(t,kernel_size=2,stride=2)\n",
    "        \n",
    "        # hidden layer -2\n",
    "        t=self.conv2(t)\n",
    "        t=F.relu(t)\n",
    "        t=F.max_pool2d(t,kernel_size=2,stride=2)\n",
    "        \n",
    "        # hidden linear layer -1\n",
    "        t=t.reshape(-1,12*4*4)\n",
    "        t=self.fc1(t)\n",
    "        t=F.relu(t)\n",
    "        \n",
    "        # hidden linear layer -2\n",
    "        t=self.fc2(t)\n",
    "        t=F.relu(t)\n",
    "        \n",
    "        # output layer\n",
    "        t=self.out(t)\n",
    "        #t=F.softmax(t)\n",
    "        \n",
    "        return t\n",
    "        \n",
    "        \n",
    "network = Network()\n",
    "print(network)\n"
   ]
  },
  {
   "cell_type": "code",
   "execution_count": 66,
   "metadata": {},
   "outputs": [
    {
     "name": "stdout",
     "output_type": "stream",
     "text": [
      "conv1.weight \t\t torch.Size([6, 1, 5, 5])\n",
      "conv1.bias \t\t torch.Size([6])\n",
      "conv2.weight \t\t torch.Size([12, 6, 5, 5])\n",
      "conv2.bias \t\t torch.Size([12])\n",
      "fc1.weight \t\t torch.Size([120, 192])\n",
      "fc1.bias \t\t torch.Size([120])\n",
      "fc2.weight \t\t torch.Size([60, 120])\n",
      "fc2.bias \t\t torch.Size([60])\n",
      "out.weight \t\t torch.Size([10, 60])\n",
      "out.bias \t\t torch.Size([10])\n"
     ]
    }
   ],
   "source": [
    "for name,param in network.named_parameters():\n",
    "    print(name,'\\t\\t',param.shape)"
   ]
  },
  {
   "cell_type": "code",
   "execution_count": 68,
   "metadata": {},
   "outputs": [
    {
     "data": {
      "text/plain": [
       "<torch.autograd.grad_mode.set_grad_enabled at 0x2034714cfd0>"
      ]
     },
     "execution_count": 68,
     "metadata": {},
     "output_type": "execute_result"
    }
   ],
   "source": [
    "# Turning off the computational graph feature of PyTorch - gradient tracking feature\n",
    "torch.set_grad_enabled(False)"
   ]
  },
  {
   "cell_type": "markdown",
   "metadata": {},
   "source": [
    "### Training with a single batch"
   ]
  },
  {
   "cell_type": "code",
   "execution_count": 70,
   "metadata": {},
   "outputs": [
    {
     "name": "stdout",
     "output_type": "stream",
     "text": [
      "torch.Size([10, 1, 28, 28])\n",
      "torch.Size([10])\n"
     ]
    }
   ],
   "source": [
    "# Training the model with a batch\n",
    "\n",
    "batch = next(iter(trainset))\n",
    "images,labels = batch\n",
    "print(images.shape)\n",
    "print(labels.shape)"
   ]
  },
  {
   "cell_type": "code",
   "execution_count": 74,
   "metadata": {},
   "outputs": [
    {
     "name": "stderr",
     "output_type": "stream",
     "text": [
      "C:\\Users\\Thatoi\\Downloads\\Software\\Anaconda\\lib\\site-packages\\ipykernel_launcher.py:49: UserWarning: Implicit dimension choice for softmax has been deprecated. Change the call to include dim=X as an argument.\n"
     ]
    },
    {
     "name": "stdout",
     "output_type": "stream",
     "text": [
      "torch.Size([10, 10])\n"
     ]
    },
    {
     "data": {
      "text/plain": [
       "tensor([[0.1017, 0.0935, 0.0877, 0.0974, 0.1021, 0.1035, 0.1089, 0.1022, 0.0952, 0.1078],\n",
       "        [0.1022, 0.0936, 0.0876, 0.0973, 0.1017, 0.1035, 0.1090, 0.1024, 0.0950, 0.1076],\n",
       "        [0.1024, 0.0938, 0.0874, 0.0976, 0.1020, 0.1034, 0.1087, 0.1024, 0.0950, 0.1075],\n",
       "        [0.1021, 0.0936, 0.0876, 0.0978, 0.1018, 0.1036, 0.1086, 0.1027, 0.0949, 0.1074],\n",
       "        [0.1021, 0.0940, 0.0874, 0.0973, 0.1016, 0.1035, 0.1092, 0.1022, 0.0952, 0.1074],\n",
       "        [0.1020, 0.0942, 0.0876, 0.0973, 0.1014, 0.1034, 0.1089, 0.1023, 0.0950, 0.1079],\n",
       "        [0.1020, 0.0939, 0.0876, 0.0973, 0.1019, 0.1033, 0.1090, 0.1025, 0.0948, 0.1077],\n",
       "        [0.1019, 0.0939, 0.0879, 0.0973, 0.1014, 0.1032, 0.1094, 0.1027, 0.0950, 0.1072],\n",
       "        [0.1022, 0.0936, 0.0877, 0.0971, 0.1016, 0.1037, 0.1090, 0.1022, 0.0951, 0.1077],\n",
       "        [0.1022, 0.0939, 0.0875, 0.0973, 0.1013, 0.1036, 0.1094, 0.1024, 0.0950, 0.1074]])"
      ]
     },
     "execution_count": 74,
     "metadata": {},
     "output_type": "execute_result"
    }
   ],
   "source": [
    "# prediction\n",
    "pred = network(images)\n",
    "print(pred.shape)\n",
    "pred\n",
    "\n",
    "'''\n",
    "The batch with 10 images are processed\n",
    "in the neural network model and the \n",
    "probability is calculated using the\n",
    "softmax function for each class row wise\n",
    "\n",
    "'''"
   ]
  },
  {
   "cell_type": "code",
   "execution_count": 76,
   "metadata": {},
   "outputs": [
    {
     "data": {
      "text/plain": [
       "tensor([6, 6, 6, 6, 6, 6, 6, 6, 6, 6])"
      ]
     },
     "execution_count": 76,
     "metadata": {},
     "output_type": "execute_result"
    }
   ],
   "source": [
    "'''\n",
    "using argmax function to determine\n",
    "the index of the maximum occuring\n",
    "probability for each image in the \n",
    "the batch\n",
    "\n",
    "'''\n",
    "pred.argmax(dim=1)"
   ]
  },
  {
   "cell_type": "code",
   "execution_count": 79,
   "metadata": {},
   "outputs": [
    {
     "name": "stdout",
     "output_type": "stream",
     "text": [
      "tensor([9, 4, 2, 5, 3, 2, 0, 1, 6, 1])\n",
      "tensor([False, False, False, False, False, False, False, False,  True, False])\n",
      "Total correct predictions : 1\n"
     ]
    }
   ],
   "source": [
    "'''\n",
    "\n",
    "comparison between the original\n",
    "labels & predicted labels from \n",
    "the model\n",
    "\n",
    "'''\n",
    "print(labels)\n",
    "print(pred.argmax(dim=1).eq(labels))\n",
    "\n",
    "def get_correct_pred(pred,labels):\n",
    "    return pred.argmax(dim=1).eq(labels).sum().item()\n",
    "\n",
    "print('Total correct predictions :',get_correct_pred(pred,labels))"
   ]
  },
  {
   "cell_type": "markdown",
   "metadata": {},
   "source": [
    "### Calculating Loss. Gradient & Update Weights"
   ]
  },
  {
   "cell_type": "code",
   "execution_count": 118,
   "metadata": {},
   "outputs": [
    {
     "name": "stdout",
     "output_type": "stream",
     "text": [
      "Gradient values initially None\n"
     ]
    }
   ],
   "source": [
    "# Calculate Gradient\n",
    "\n",
    "print('Gradient values initially',network.conv1.weight.grad)"
   ]
  },
  {
   "cell_type": "code",
   "execution_count": 127,
   "metadata": {},
   "outputs": [
    {
     "name": "stderr",
     "output_type": "stream",
     "text": [
      "C:\\Users\\Thatoi\\Downloads\\Software\\Anaconda\\lib\\site-packages\\ipykernel_launcher.py:49: UserWarning: Implicit dimension choice for softmax has been deprecated. Change the call to include dim=X as an argument.\n"
     ]
    }
   ],
   "source": [
    "# Calculate Loss & optimize\n",
    "\n",
    "batch = next(iter(trainset))\n",
    "images,labels=batch\n",
    "pred = network(images)\n",
    "loss = F.cross_entropy(pred,labels)\n",
    "loss.backward()\n",
    "optimizer.step()"
   ]
  },
  {
   "cell_type": "code",
   "execution_count": 128,
   "metadata": {},
   "outputs": [
    {
     "name": "stdout",
     "output_type": "stream",
     "text": [
      "Gradient values after torch.Size([6, 1, 5, 5])\n"
     ]
    }
   ],
   "source": [
    "print('Gradient values after',network.conv1.weight.grad.shape)"
   ]
  },
  {
   "cell_type": "code",
   "execution_count": 129,
   "metadata": {},
   "outputs": [
    {
     "name": "stdout",
     "output_type": "stream",
     "text": [
      "1.9593948125839233\n"
     ]
    }
   ],
   "source": [
    "print(loss.item())"
   ]
  },
  {
   "cell_type": "markdown",
   "metadata": {},
   "source": [
    "### Training with all batches : A single epoch"
   ]
  },
  {
   "cell_type": "code",
   "execution_count": 143,
   "metadata": {},
   "outputs": [
    {
     "name": "stdout",
     "output_type": "stream",
     "text": [
      "loss: tensor(0.4384, grad_fn=<NllLossBackward>)\n"
     ]
    }
   ],
   "source": [
    "train_loader = torch.utils.data.DataLoader(train,batch_size=100)\n",
    "optimizer = optim.Adam(network.parameters(),lr=0.01)\n",
    "epochs = 1\n",
    "\n",
    "\n",
    "for epocs in range(epochs):\n",
    "    \n",
    "    '''\n",
    "    For each epoch, loop will fetch a batch,\n",
    "    predict the values, calculate the loss,\n",
    "    optimize the loss, upgrade the loss,\n",
    "    repeat for the next epoch\n",
    "    \n",
    "    '''\n",
    "    \n",
    "    \n",
    "    \n",
    "    total_loss=0\n",
    "    total_correct=0\n",
    "    \n",
    "    for batch in train_loader: # Get Batch\n",
    "        images,labels = batch\n",
    "        \n",
    "        network.zero_grad()\n",
    "        output = network(images.view(100,1,28,28)) # Pass Batch\n",
    "        loss=F.cross_entropy(output,labels) # Calculate loss\n",
    "        \n",
    "        optimizer.zero_grad()\n",
    "        loss.backward() # Calculate Gradients\n",
    "        optimizer.step() # Update Weights\n",
    "        \n",
    "        total_loss += loss.item()\n",
    "        total_correct += get_correct_pred(output,labels)\n",
    "    print(\"loss:\",loss)"
   ]
  },
  {
   "cell_type": "code",
   "execution_count": 153,
   "metadata": {},
   "outputs": [
    {
     "name": "stdout",
     "output_type": "stream",
     "text": [
      "Total % correct prediction  0.8008333333333333\n"
     ]
    }
   ],
   "source": [
    "print('Total % correct prediction ',total_correct/(len(train_loader)*100) )"
   ]
  },
  {
   "cell_type": "markdown",
   "metadata": {},
   "source": [
    "### Training with all batches : multiple epochs"
   ]
  },
  {
   "cell_type": "code",
   "execution_count": 157,
   "metadata": {},
   "outputs": [
    {
     "name": "stdout",
     "output_type": "stream",
     "text": [
      "Total loss for epoch  0  is  177.191213876009\n",
      "Accuray for epoch  0  is  89.13833333333334 %\n",
      "Total loss for epoch  1  is  178.46491419523954\n",
      "Accuray for epoch  1  is  88.97666666666667 %\n",
      "Total loss for epoch  2  is  180.79167857766151\n",
      "Accuray for epoch  2  is  88.89166666666667 %\n",
      "Total loss for epoch  3  is  175.7645281329751\n",
      "Accuray for epoch  3  is  89.17166666666667 %\n",
      "Total loss for epoch  4  is  170.569885276258\n",
      "Accuray for epoch  4  is  89.64833333333333 %\n"
     ]
    }
   ],
   "source": [
    "epochs= 5\n",
    "for epoch in range(epochs):\n",
    "    \n",
    "    total_loss=0\n",
    "    total_correct=0\n",
    "    \n",
    "    for batch in train_loader: # Get Batch\n",
    "        images,labels = batch\n",
    "        \n",
    "        network.zero_grad()\n",
    "        output = network(images.view(100,1,28,28)) # Pass Batch\n",
    "        loss=F.cross_entropy(output,labels) # Calculate loss\n",
    "        \n",
    "        optimizer.zero_grad()\n",
    "        loss.backward() # Calculate Gradients\n",
    "        optimizer.step() # Update Weights\n",
    "        \n",
    "        total_loss += loss.item()\n",
    "        total_correct += get_correct_pred(output,labels)\n",
    "        \n",
    "    print(\"Total loss for epoch \",epoch, \" is \",total_loss)\n",
    "    print('Accuray for epoch ',epoch, \" is \",total_correct*100/(len(train_loader)*100),'%' )"
   ]
  },
  {
   "cell_type": "code",
   "execution_count": 30,
   "metadata": {},
   "outputs": [
    {
     "data": {
      "image/png": "[encoded data removed]",
      "text/plain": [
       "<Figure size 432x288 with 1 Axes>"
      ]
     },
     "metadata": {
      "needs_background": "light"
     },
     "output_type": "display_data"
    }
   ],
   "source": [
    "plt.imshow(X[3].view(28,28))\n",
    "plt.show()"
   ]
  },
  {
   "cell_type": "markdown",
   "metadata": {},
   "source": [
    "### Accuracy"
   ]
  },
  {
   "cell_type": "code",
   "execution_count": 31,
   "metadata": {},
   "outputs": [
    {
     "name": "stdout",
     "output_type": "stream",
     "text": [
      "Accuracy: 0.977\n"
     ]
    }
   ],
   "source": [
    "correct = 0\n",
    "total = 0\n",
    "\n",
    "with torch.no_grad():\n",
    "    for data in trainset:\n",
    "        X,y = data\n",
    "        output = net(X.view(-1,784))\n",
    "        for idx, i in enumerate(output):\n",
    "            if torch.argmax(i) == y[idx]:\n",
    "                correct +=1\n",
    "            total +=1\n",
    "\n",
    "print(\"Accuracy:\",round(correct/total,3))\n",
    "            "
   ]
  },
  {
   "cell_type": "markdown",
   "metadata": {},
   "source": [
    "### CNN MOdel"
   ]
  },
  {
   "cell_type": "code",
   "execution_count": 36,
   "metadata": {},
   "outputs": [
    {
     "name": "stdout",
     "output_type": "stream",
     "text": [
      "PetImages/Cat\n"
     ]
    },
    {
     "name": "stderr",
     "output_type": "stream",
     "text": [
      "100%|███████████████████████████████████████████████████████████████████████████| 12501/12501 [00:20<00:00, 609.88it/s]\n"
     ]
    },
    {
     "name": "stdout",
     "output_type": "stream",
     "text": [
      "PetImages/Dog\n"
     ]
    },
    {
     "name": "stderr",
     "output_type": "stream",
     "text": [
      "100%|███████████████████████████████████████████████████████████████████████████| 12501/12501 [00:21<00:00, 569.71it/s]\n"
     ]
    },
    {
     "name": "stdout",
     "output_type": "stream",
     "text": [
      "cats: 12476\n",
      "dogs 12470\n"
     ]
    }
   ],
   "source": [
    "import os \n",
    "import cv2\n",
    "import numpy as np\n",
    "from tqdm import tqdm\n",
    "os.chdir(r\"C:\\kagglecatsanddogs_3367a\")\n",
    "# to rebuild the data once\n",
    "# to avoid preprocessing of data\n",
    "REBUILD_DATA = True\n",
    "\n",
    "class DogsVsCats():\n",
    "    \n",
    "    '''\n",
    "    Class DogsVsCats will create the required\n",
    "    scale and size of images of cats and dogs.\n",
    "    It will also assign the labels while processing\n",
    "    the images and convert the pixels and labels\n",
    "    into the array of images\n",
    "    \n",
    "    '''\n",
    "    \n",
    "    img_size = 50 #to make uniform size\n",
    "    cats =\"PetImages/Cat\" # folder containing cat images\n",
    "    dogs =\"PetImages/Dog\" # folder containing dog images\n",
    "    labels = {cats:0,dogs:1} # labels for cats & dogs\n",
    "    training_data = [] # training data list\n",
    "    catcount=0 # initial count for cat\n",
    "    dogcount=0 # initial count for dog\n",
    "    \n",
    "    def make_training_data(self):\n",
    "         for label in self.labels:\n",
    "             print(label)\n",
    "             for f in tqdm(os.listdir(label)):\n",
    "                 try:\n",
    "                     path = os.path.join(label,f)\n",
    "                     # converting img into grayscale\n",
    "                     img = cv2.imread(path,cv2.IMREAD_GRAYSCALE)\n",
    "\n",
    "                     # resize the image into 50x50 pixels\n",
    "                     img = cv2.resize(img,(self.img_size,self.img_size))\n",
    "\n",
    "                     # convert the image into a 2-D array\n",
    "                     self.training_data.append([np.array(img),np.eye(2)[self.labels[label]]])\n",
    "\n",
    "                     # count the number of cats & dogs\n",
    "                     if label == self.cats:\n",
    "                         self.catcount +=1\n",
    "                     elif label == self.dogs:\n",
    "                         self.dogcount +=1\n",
    "                 except Exception  as e:\n",
    "                     pass\n",
    "        \n",
    "         \n",
    "         # once imported, shuffle the data \n",
    "         # save the file as numpy array file\n",
    "        \n",
    "         np.random.shuffle(self.training_data)\n",
    "         np.save('training_data.npy',self.training_data)\n",
    "         print(\"cats:\",self.catcount)\n",
    "         print('dogs',self.dogcount)\n",
    "         \n",
    "if REBUILD_DATA:\n",
    "         dogsvscats = DogsVsCats()\n",
    "         dogsvscats.make_training_data()"
   ]
  },
  {
   "cell_type": "code",
   "execution_count": 37,
   "metadata": {},
   "outputs": [],
   "source": [
    "training_data = np.load(\"training_data.npy\", allow_pickle=True)"
   ]
  },
  {
   "cell_type": "code",
   "execution_count": 45,
   "metadata": {},
   "outputs": [
    {
     "data": {
      "image/png": "[encoded data removed]",
      "text/plain": [
       "<Figure size 432x288 with 1 Axes>"
      ]
     },
     "metadata": {
      "needs_background": "light"
     },
     "output_type": "display_data"
    },
    {
     "data": {
      "text/plain": [
       "array([1., 0.])"
      ]
     },
     "execution_count": 45,
     "metadata": {},
     "output_type": "execute_result"
    }
   ],
   "source": [
    "# printing the image of the cat\n",
    "plt.imshow(training_data[1][0],cmap = \"gray\")\n",
    "plt.show()\n",
    "# label of the image 1\n",
    "training_data[1][1]"
   ]
  },
  {
   "cell_type": "code",
   "execution_count": null,
   "metadata": {},
   "outputs": [],
   "source": [
    "import torch\n",
    "import torch.nn as nn\n",
    "import torch.nn.functional as F\n",
    "\n",
    "Class Net(nn.Module):\n",
    "    def __init__(self):\n",
    "        super().__init__()\n",
    "        self.conv1 = nn.Conv2d(1,32,5)\n",
    "        self.conv2 = nn.Conv2d(32,64,5)\n",
    "        self.conv3 = nn.Conv2d(64,128,5)\n",
    "        "
   ]
  }
 ],
 "metadata": {
  "kernelspec": {
   "display_name": "Python 3",
   "language": "python",
   "name": "python3"
  },
  "language_info": {
   "codemirror_mode": {
    "name": "ipython",
    "version": 3
   },
   "file_extension": ".py",
   "mimetype": "text/x-python",
   "name": "python",
   "nbconvert_exporter": "python",
   "pygments_lexer": "ipython3",
   "version": "3.6.8"
  }
 },
 "nbformat": 4,
 "nbformat_minor": 2
}
