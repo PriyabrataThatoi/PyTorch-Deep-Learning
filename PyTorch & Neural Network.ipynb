{
 "cells": [
  {
   "cell_type": "markdown",
   "metadata": {},
   "source": [
    "### PyTorch Libraries"
   ]
  },
  {
   "cell_type": "code",
   "execution_count": 1,
   "metadata": {},
   "outputs": [],
   "source": [
    "import torch\n",
    "import torchvision\n",
    "from torchvision import transforms, datasets\n",
    "import torch.nn as nn\n",
    "import torch.nn.functional as F\n",
    "import torch.optim as optim\n",
    "from sklearn.metrics import confusion_matrix\n",
    "from torch.utils.tensorboard import SummaryWriter"
   ]
  },
  {
   "cell_type": "code",
   "execution_count": 2,
   "metadata": {},
   "outputs": [
    {
     "name": "stdout",
     "output_type": "stream",
     "text": [
      "1.2.0\n"
     ]
    }
   ],
   "source": [
    "import torch \n",
    "print(torch.__version__)"
   ]
  },
  {
   "cell_type": "code",
   "execution_count": 3,
   "metadata": {},
   "outputs": [
    {
     "data": {
      "text/plain": [
       "False"
      ]
     },
     "execution_count": 3,
     "metadata": {},
     "output_type": "execute_result"
    }
   ],
   "source": [
    "torch.cuda.is_available()"
   ]
  },
  {
   "cell_type": "markdown",
   "metadata": {},
   "source": [
    "### Extarct Transform & Loading "
   ]
  },
  {
   "cell_type": "code",
   "execution_count": 7,
   "metadata": {},
   "outputs": [],
   "source": [
    "# using torchvision to access the dataset\n",
    "# using torchvision.transform, image is transformed\n",
    "# into pytorch.tensors\n",
    "# 60,000 images in training data\n",
    "# 10,000 images in testing data\n",
    "\n",
    "'''\n",
    "EXTRACT & TRANSFORM\n",
    "'''\n",
    "\n",
    "train = datasets.FashionMNIST(\"\",\n",
    "                       train=True,\n",
    "                       download=True,\n",
    "                       transform=transforms.Compose([transforms.ToTensor()]))  \n",
    "test = datasets.FashionMNIST(\"\",\n",
    "                       train=False,\n",
    "                       download=True,\n",
    "                       transform=transforms.Compose([transforms.ToTensor()]))  "
   ]
  },
  {
   "cell_type": "code",
   "execution_count": 8,
   "metadata": {},
   "outputs": [],
   "source": [
    "# Dataloader wraps the dataset into\n",
    "# dataloader instance, which is helpful \n",
    "# to perform specific operations such as\n",
    "# batching(size=10), shuffle etc.\n",
    "\n",
    "'''\n",
    "LOADING DATA\n",
    "'''\n",
    "\n",
    "trainset = torch.utils.data.DataLoader(train,batch_size=10,shuffle=True)\n",
    "testset = torch.utils.data.DataLoader(test,batch_size=10,shuffle=True)"
   ]
  },
  {
   "cell_type": "code",
   "execution_count": 9,
   "metadata": {},
   "outputs": [],
   "source": [
    "import numpy as np\n",
    "import matplotlib.pyplot as plt\n",
    "torch.set_printoptions(linewidth =120)"
   ]
  },
  {
   "cell_type": "markdown",
   "metadata": {},
   "source": [
    "### Analyzing datasets"
   ]
  },
  {
   "cell_type": "code",
   "execution_count": 10,
   "metadata": {
    "scrolled": true
   },
   "outputs": [
    {
     "name": "stdout",
     "output_type": "stream",
     "text": [
      "Bin count of labels in the training dataset  {0: 6000, 1: 6000, 2: 6000, 3: 6000, 4: 6000, 5: 6000, 6: 6000, 7: 6000, 8: 6000, 9: 6000}\n",
      "Bin count of labels in the test dataset  {0: 1000, 1: 1000, 2: 1000, 3: 1000, 4: 1000, 5: 1000, 6: 1000, 7: 1000, 8: 1000, 9: 1000}\n",
      "Dataset is balance as the labels are uniformly distributed\n"
     ]
    }
   ],
   "source": [
    "'''\n",
    "Creating a counter function to \n",
    "count the number of labels in \n",
    "each of the datasets i.e. train\n",
    "and test dataset\n",
    "\n",
    "'''\n",
    "\n",
    "total = 0\n",
    "counter_dict_tr = {0:0,1:0,2:0,3:0,4:0,5:0,6:0,7:0,8:0,9:0}\n",
    "counter_dict_test = {0:0,1:0,2:0,3:0,4:0,5:0,6:0,7:0,8:0,9:0}\n",
    "\n",
    "for data in trainset:\n",
    "    xs,ys = data\n",
    "    for y in ys:\n",
    "        counter_dict_tr[int(y)]+=1\n",
    "        total+=1\n",
    "        \n",
    "for data in testset:\n",
    "    xs,ys = data\n",
    "    for y in ys:\n",
    "        counter_dict_test[int(y)]+=1\n",
    "        total+=1\n",
    "        \n",
    "print('Bin count of labels in the training dataset ' ,  counter_dict_tr)\n",
    "print('Bin count of labels in the test dataset ' ,  counter_dict_test)\n",
    "print('Dataset is balance as the labels are uniformly distributed')"
   ]
  },
  {
   "cell_type": "code",
   "execution_count": 6,
   "metadata": {},
   "outputs": [
    {
     "name": "stdout",
     "output_type": "stream",
     "text": [
      "2\n",
      "<class 'list'>\n"
     ]
    }
   ],
   "source": [
    "# Acessing one single sample for analysis\n",
    "# it uses sequence unpacking or list\n",
    "# unpacking of object\n",
    "\n",
    "sample = next(iter(trainset))\n",
    "print(len(sample))\n",
    "print(type(sample))\n",
    "image,label = sample "
   ]
  },
  {
   "cell_type": "code",
   "execution_count": 7,
   "metadata": {},
   "outputs": [
    {
     "name": "stdout",
     "output_type": "stream",
     "text": [
      "torch.Size([10, 1, 28, 28])\n",
      "torch.Size([10])\n",
      "label : tensor(3)\n"
     ]
    },
    {
     "data": {
      "image/png": "[encoded data removed]",
      "text/plain": [
       "<Figure size 432x288 with 1 Axes>"
      ]
     },
     "metadata": {
      "needs_background": "light"
     },
     "output_type": "display_data"
    }
   ],
   "source": [
    "# Ploting the image in the sample[0][0]\n",
    "# Plotting the lable of the sample[0]\n",
    "\n",
    "print(image.shape)\n",
    "print(label.shape)\n",
    "plt.imshow(image[0][0].view(28,28),cmap='gray');\n",
    "print('label :' ,label[0])"
   ]
  },
  {
   "cell_type": "code",
   "execution_count": 8,
   "metadata": {},
   "outputs": [
    {
     "name": "stdout",
     "output_type": "stream",
     "text": [
      "labels: tensor([3, 6, 4, 4, 1, 9, 8, 1, 4, 8])\n"
     ]
    },
    {
     "data": {
      "image/png": "[encoded data removed]",
      "text/plain": [
       "<Figure size 1800x2160 with 1 Axes>"
      ]
     },
     "metadata": {
      "needs_background": "light"
     },
     "output_type": "display_data"
    }
   ],
   "source": [
    "# printing the items of the batch\n",
    "# using grid utility function\n",
    "\n",
    "grid = torchvision.utils.make_grid(image,nrow=10)\n",
    "plt.figure(figsize=(25,30))\n",
    "plt.imshow(np.transpose(grid,(1,2,0)))\n",
    "print('labels:',label)"
   ]
  },
  {
   "cell_type": "markdown",
   "metadata": {},
   "source": [
    "### Modeling"
   ]
  },
  {
   "cell_type": "code",
   "execution_count": 11,
   "metadata": {},
   "outputs": [
    {
     "name": "stdout",
     "output_type": "stream",
     "text": [
      "Network(\n",
      "  (conv1): Conv2d(1, 6, kernel_size=(5, 5), stride=(1, 1))\n",
      "  (conv2): Conv2d(6, 12, kernel_size=(5, 5), stride=(1, 1))\n",
      "  (fc1): Linear(in_features=192, out_features=120, bias=True)\n",
      "  (fc2): Linear(in_features=120, out_features=60, bias=True)\n",
      "  (out): Linear(in_features=60, out_features=10, bias=True)\n",
      ")\n"
     ]
    }
   ],
   "source": [
    "class Network(nn.Module):\n",
    "    '''\n",
    "    Creating Neural Network class through\n",
    "    1. extending the base neural network module of pytorch\n",
    "    2. creating layers both convolutional and linear for CNN model\n",
    "    3. assigning hyperparameters & data-dependent parameters\n",
    "    that uses the inheritance method to use all the module functionality\n",
    "    and allows the user to add their own custome functionality or change \n",
    "    the existing function using ( __ repr__) function\n",
    "    \n",
    "    Hyperparameters : out_channels, kernel_size(5,5), out_features\n",
    "    Data dependent parameters : in_channel, out_feature at the last\n",
    "    \n",
    "    '''\n",
    "    def __init__(self):\n",
    "        super().__init__() # extending the Pytorch nn module class\n",
    "        \n",
    "        self.conv1 = nn.Conv2d(in_channels =1,out_channels = 6,kernel_size = 5,stride =1)\n",
    "        self.conv2 = nn.Conv2d(in_channels =6,out_channels = 12,kernel_size = 5,stride =1)\n",
    "        self.fc1 = nn.Linear(in_features = 12*4*4,out_features=120,bias = True)\n",
    "        self.fc2 = nn.Linear(in_features = 120,out_features=60,bias =True)\n",
    "        self.out = nn.Linear(60,10)\n",
    "    \n",
    "    def forward(self,t):\n",
    "        # input layer (generally not required as all the data are passed to next layer without any change)\n",
    "        t=t\n",
    "        \n",
    "        # hidden layer -1\n",
    "        t=self.conv1(t)\n",
    "        t=F.relu(t)\n",
    "        t=F.max_pool2d(t,kernel_size=2,stride=2)\n",
    "        \n",
    "        # hidden layer -2\n",
    "        t=self.conv2(t)\n",
    "        t=F.relu(t)\n",
    "        t=F.max_pool2d(t,kernel_size=2,stride=2)\n",
    "        \n",
    "        # hidden linear layer -1\n",
    "        t=t.reshape(-1,12*4*4)\n",
    "        t=self.fc1(t)\n",
    "        t=F.relu(t)\n",
    "        \n",
    "        # hidden linear layer -2\n",
    "        t=self.fc2(t)\n",
    "        t=F.relu(t)\n",
    "        \n",
    "        # output layer\n",
    "        t=self.out(t)\n",
    "        \n",
    "        return t\n",
    "        \n",
    "        \n",
    "network = Network()\n",
    "print(network)"
   ]
  },
  {
   "cell_type": "code",
   "execution_count": 10,
   "metadata": {},
   "outputs": [
    {
     "name": "stdout",
     "output_type": "stream",
     "text": [
      "conv1.weight \t\t torch.Size([6, 1, 5, 5])\n",
      "conv1.bias \t\t torch.Size([6])\n",
      "conv2.weight \t\t torch.Size([12, 6, 5, 5])\n",
      "conv2.bias \t\t torch.Size([12])\n",
      "fc1.weight \t\t torch.Size([120, 192])\n",
      "fc1.bias \t\t torch.Size([120])\n",
      "fc2.weight \t\t torch.Size([60, 120])\n",
      "fc2.bias \t\t torch.Size([60])\n",
      "out.weight \t\t torch.Size([10, 60])\n",
      "out.bias \t\t torch.Size([10])\n"
     ]
    }
   ],
   "source": [
    "# Parameters in the CNN model\n",
    "for name,param in network.named_parameters():\n",
    "    print(name,'\\t\\t',param.shape)"
   ]
  },
  {
   "cell_type": "markdown",
   "metadata": {},
   "source": [
    "### Training with a single batch"
   ]
  },
  {
   "cell_type": "code",
   "execution_count": 19,
   "metadata": {},
   "outputs": [
    {
     "name": "stdout",
     "output_type": "stream",
     "text": [
      "torch.Size([10, 1, 28, 28])\n",
      "torch.Size([10])\n"
     ]
    }
   ],
   "source": [
    "# Training the model with a batch of 10 images\n",
    "\n",
    "batch = next(iter(trainset))\n",
    "images,labels = batch\n",
    "print(images.shape)\n",
    "print(labels.shape)"
   ]
  },
  {
   "cell_type": "code",
   "execution_count": 20,
   "metadata": {},
   "outputs": [
    {
     "name": "stdout",
     "output_type": "stream",
     "text": [
      "torch.Size([10, 10])\n"
     ]
    },
    {
     "data": {
      "text/plain": [
       "tensor([[-0.0003,  0.0145,  0.1376, -0.0305, -0.1517, -0.0849, -0.0288,  0.0679, -0.0324,  0.0889],\n",
       "        [-0.0128, -0.0055,  0.1301, -0.0052, -0.1474, -0.0917, -0.0172,  0.0754, -0.0372,  0.0951],\n",
       "        [-0.0103, -0.0046,  0.1298, -0.0097, -0.1487, -0.0977, -0.0190,  0.0758, -0.0332,  0.0930],\n",
       "        [-0.0112, -0.0036,  0.1264, -0.0065, -0.1447, -0.0873, -0.0188,  0.0678, -0.0400,  0.0922],\n",
       "        [-0.0115, -0.0022,  0.1317, -0.0165, -0.1529, -0.0960, -0.0192,  0.0776, -0.0370,  0.0960],\n",
       "        [-0.0140,  0.0056,  0.1400, -0.0157, -0.1478, -0.0963, -0.0285,  0.0774, -0.0363,  0.0893],\n",
       "        [-0.0071,  0.0005,  0.1355, -0.0134, -0.1534, -0.0945, -0.0178,  0.0748, -0.0381,  0.0897],\n",
       "        [-0.0115, -0.0024,  0.1300, -0.0166, -0.1556, -0.1068, -0.0174,  0.0748, -0.0325,  0.0996],\n",
       "        [-0.0136,  0.0036,  0.1342, -0.0139, -0.1555, -0.0931, -0.0191,  0.0746, -0.0396,  0.0930],\n",
       "        [-0.0114,  0.0013,  0.1360, -0.0192, -0.1519, -0.0965, -0.0223,  0.0780, -0.0400,  0.0983]],\n",
       "       grad_fn=<AddmmBackward>)"
      ]
     },
     "execution_count": 20,
     "metadata": {},
     "output_type": "execute_result"
    }
   ],
   "source": [
    "# prediction\n",
    "'''\n",
    "The batch with 10 images are processed\n",
    "in the neural network model and the \n",
    "probability is calculated using the\n",
    "softmax function for each class row wise\n",
    "\n",
    "'''\n",
    "pred = network(images)\n",
    "print(pred.shape)\n",
    "pred"
   ]
  },
  {
   "cell_type": "code",
   "execution_count": 21,
   "metadata": {},
   "outputs": [
    {
     "data": {
      "text/plain": [
       "tensor([2, 2, 2, 2, 2, 2, 2, 2, 2, 2])"
      ]
     },
     "execution_count": 21,
     "metadata": {},
     "output_type": "execute_result"
    }
   ],
   "source": [
    "'''\n",
    "using argmax function to determine\n",
    "the index of the maximum occuring\n",
    "probability for each image in the \n",
    "the batch\n",
    "\n",
    "'''\n",
    "pred.argmax(dim=1)"
   ]
  },
  {
   "cell_type": "code",
   "execution_count": 22,
   "metadata": {},
   "outputs": [
    {
     "name": "stdout",
     "output_type": "stream",
     "text": [
      "tensor([8, 3, 3, 0, 6, 9, 4, 3, 2, 2])\n",
      "tensor([False, False, False, False, False, False, False, False,  True,  True])\n",
      "Total correct predictions : 2\n"
     ]
    }
   ],
   "source": [
    "'''\n",
    "\n",
    "comparison between the original\n",
    "labels & predicted labels from \n",
    "the model\n",
    "\n",
    "'''\n",
    "print(labels)\n",
    "print(pred.argmax(dim=1).eq(labels))\n",
    "\n",
    "def get_correct_pred(pred,labels):\n",
    "    return pred.argmax(dim=1).eq(labels).sum().item()\n",
    "\n",
    "print('Total correct predictions :',get_correct_pred(pred,labels))"
   ]
  },
  {
   "cell_type": "markdown",
   "metadata": {},
   "source": [
    "### Calculating Loss. Gradient & Update Weights"
   ]
  },
  {
   "cell_type": "code",
   "execution_count": 15,
   "metadata": {},
   "outputs": [
    {
     "name": "stdout",
     "output_type": "stream",
     "text": [
      "Gradient values initially None\n"
     ]
    }
   ],
   "source": [
    "# Calculate Gradient\n",
    "\n",
    "print('Gradient values initially',network.conv1.weight.grad)"
   ]
  },
  {
   "cell_type": "code",
   "execution_count": 16,
   "metadata": {},
   "outputs": [],
   "source": [
    "# Calculate Loss & optimize\n",
    "optimizer = torch.optim.SGD(network.parameters(), lr=0.01) \n",
    "batch = next(iter(trainset))\n",
    "images,labels=batch\n",
    "pred = network(images)\n",
    "loss = F.cross_entropy(pred,labels)\n",
    "loss.backward()\n",
    "optimizer.step()"
   ]
  },
  {
   "cell_type": "code",
   "execution_count": 17,
   "metadata": {},
   "outputs": [
    {
     "name": "stdout",
     "output_type": "stream",
     "text": [
      "Gradient values after torch.Size([6, 1, 5, 5])\n"
     ]
    }
   ],
   "source": [
    "print('Gradient values after',network.conv1.weight.grad.shape)"
   ]
  },
  {
   "cell_type": "code",
   "execution_count": 18,
   "metadata": {},
   "outputs": [
    {
     "name": "stdout",
     "output_type": "stream",
     "text": [
      "2.3114733695983887\n"
     ]
    }
   ],
   "source": [
    "print(loss.item())"
   ]
  },
  {
   "cell_type": "markdown",
   "metadata": {},
   "source": [
    "### Training with all batches : A single epoch"
   ]
  },
  {
   "cell_type": "code",
   "execution_count": 19,
   "metadata": {},
   "outputs": [
    {
     "name": "stdout",
     "output_type": "stream",
     "text": [
      "epoch: 0 loss: tensor(2.2001, grad_fn=<NllLossBackward>) total_correct: 9173\n"
     ]
    }
   ],
   "source": [
    "train_loader = torch.utils.data.DataLoader(train,batch_size=100)\n",
    "optimizer = torch.optim.SGD(network.parameters(), lr=0.01) \n",
    "epochs = 1\n",
    "\n",
    "\n",
    "for epoch in range(epochs):\n",
    "    \n",
    "    '''\n",
    "    For each epoch, loop will fetch a batch,\n",
    "    predict the values, calculate the loss,\n",
    "    optimize the loss, upgrade the loss,\n",
    "    repeat for the next epoch\n",
    "    \n",
    "    '''\n",
    "    \n",
    "    total_loss=0\n",
    "    total_correct=0\n",
    "    \n",
    "    for batch in train_loader: # Get Batch\n",
    "        images,labels = batch\n",
    "        \n",
    "        network.zero_grad()\n",
    "        output = network(images) # Pass Batch\n",
    "        loss=F.cross_entropy(output,labels) # Calculate loss\n",
    "        \n",
    "        optimizer.zero_grad()\n",
    "        loss.backward() # Calculate Gradients\n",
    "        optimizer.step() # Update Weights\n",
    "        \n",
    "        total_loss += loss.item()\n",
    "        total_correct += get_correct_pred(output,labels)\n",
    "        \n",
    "    print(\"epoch:\",epoch,\"loss:\",loss,\"total_correct:\",total_correct)"
   ]
  },
  {
   "cell_type": "code",
   "execution_count": 20,
   "metadata": {},
   "outputs": [
    {
     "name": "stdout",
     "output_type": "stream",
     "text": [
      "Total % correct prediction  15.288333333333334\n"
     ]
    }
   ],
   "source": [
    "print('Total % correct prediction ',total_correct*100/len(train))"
   ]
  },
  {
   "cell_type": "markdown",
   "metadata": {},
   "source": [
    "### Training with all batches : multiple epochs"
   ]
  },
  {
   "cell_type": "code",
   "execution_count": 21,
   "metadata": {},
   "outputs": [
    {
     "name": "stdout",
     "output_type": "stream",
     "text": [
      "Epoch:0. Loss: 762.1179916858673. Accuracy: 54.88. Total_Correct: 32928.\n",
      "Epoch:1. Loss: 514.2459655404091. Accuracy: 67.015. Total_Correct: 40209.\n",
      "Epoch:2. Loss: 449.28578412532806. Accuracy: 71.32666666666667. Total_Correct: 42796.\n"
     ]
    }
   ],
   "source": [
    "epochs= 3\n",
    "criterion = nn.CrossEntropyLoss()\n",
    "optimizer = torch.optim.SGD(network.parameters(), lr=0.01) \n",
    "\n",
    "for epoch in range(epochs):\n",
    "    \n",
    "    total_loss=0\n",
    "    total_correct=0\n",
    "    \n",
    "    for batch in train_loader: # Get Batch\n",
    "        \n",
    "        # Load images\n",
    "        images,labels = batch\n",
    "        \n",
    "        # Clear gradients w.r.t. parameters\n",
    "        optimizer.zero_grad()\n",
    "        \n",
    "        # Forward pass to get output/logits\n",
    "        output = network(images) # Pass Batch\n",
    "        \n",
    "        # Calculate Loss: softmax --> cross entropy loss\n",
    "        loss=criterion(output,labels)\n",
    "        \n",
    "        # Getting gradients w.r.t. parameters\n",
    "        loss.backward()\n",
    "        \n",
    "        # Updating parameters\n",
    "        optimizer.step()\n",
    "        \n",
    "        #Get predictions from the maximum value\n",
    "        total_correct += get_correct_pred(output,labels)\n",
    "        total_loss += loss.item()\n",
    "        \n",
    "        \n",
    "    accuracy = 100 * total_correct / len(train)\n",
    "    # Print Loss\n",
    "    print('Epoch:{}. Loss: {}. Accuracy: {}. Total_Correct: {}.'.format(epoch, total_loss, accuracy,total_correct))"
   ]
  },
  {
   "cell_type": "markdown",
   "metadata": {},
   "source": [
    "### Analyzing CNN Results - Builing & Plotting a Confusion Matrix"
   ]
  },
  {
   "cell_type": "code",
   "execution_count": 22,
   "metadata": {},
   "outputs": [],
   "source": [
    "'''\n",
    "Creating a function to collect\n",
    "all the prediction on the batches\n",
    "of the trainset and concatenate \n",
    "into a single prediction tensor\n",
    "\n",
    "'''\n",
    "\n",
    "def get_all_preds(model,loader):\n",
    "    all_preds=torch.tensor([])\n",
    "    for batch in loader:\n",
    "        images, labels = batch\n",
    "        preds = model(images)\n",
    "        all_preds=torch.cat((all_preds,preds),dim=0)\n",
    "    return all_preds"
   ]
  },
  {
   "cell_type": "code",
   "execution_count": 23,
   "metadata": {},
   "outputs": [],
   "source": [
    "# Increasing the batch size to gather\n",
    "# all the predictions of 60,000 images\n",
    "\n",
    "with torch.no_grad():\n",
    "    prediction_loader = torch.utils.data.DataLoader(train,batch_size =10000)\n",
    "    train_pred = get_all_preds(network, prediction_loader)"
   ]
  },
  {
   "cell_type": "code",
   "execution_count": 24,
   "metadata": {},
   "outputs": [
    {
     "name": "stdout",
     "output_type": "stream",
     "text": [
      "Total correct prediction from CNN model is  44248\n"
     ]
    }
   ],
   "source": [
    "# Calculating total number of correct preds\n",
    "\n",
    "print('Total correct prediction from CNN model is ',get_correct_pred(train_pred,train.targets))"
   ]
  },
  {
   "cell_type": "code",
   "execution_count": 25,
   "metadata": {},
   "outputs": [
    {
     "data": {
      "text/plain": [
       "tensor([9, 0, 0,  ..., 3, 0, 5])"
      ]
     },
     "execution_count": 25,
     "metadata": {},
     "output_type": "execute_result"
    }
   ],
   "source": [
    "# Comparing the predictions\n",
    "\n",
    "train.targets"
   ]
  },
  {
   "cell_type": "code",
   "execution_count": 26,
   "metadata": {},
   "outputs": [
    {
     "data": {
      "text/plain": [
       "tensor([9, 0, 1,  ..., 3, 6, 5])"
      ]
     },
     "execution_count": 26,
     "metadata": {},
     "output_type": "execute_result"
    }
   ],
   "source": [
    "train_pred.argmax(dim=1)"
   ]
  },
  {
   "cell_type": "code",
   "execution_count": 27,
   "metadata": {},
   "outputs": [],
   "source": [
    "# Pairing up the predictions & targets\n",
    "\n",
    "stacked = torch.stack(\n",
    "    (\n",
    "        train.targets,\n",
    "        train_pred.argmax(dim=1)\n",
    "    )\n",
    "    , dim =1 # column wise\n",
    ")"
   ]
  },
  {
   "cell_type": "code",
   "execution_count": 28,
   "metadata": {},
   "outputs": [
    {
     "data": {
      "text/plain": [
       "tensor([[9, 9],\n",
       "        [0, 0],\n",
       "        [0, 1],\n",
       "        ...,\n",
       "        [3, 3],\n",
       "        [0, 6],\n",
       "        [5, 5]])"
      ]
     },
     "execution_count": 28,
     "metadata": {},
     "output_type": "execute_result"
    }
   ],
   "source": [
    "stacked"
   ]
  },
  {
   "cell_type": "code",
   "execution_count": 29,
   "metadata": {},
   "outputs": [
    {
     "data": {
      "text/plain": [
       "tensor([[4469,  192,  323,  758,   53,   11,  116,    0,   76,    2],\n",
       "        [  20, 5473,   88,  343,   57,    1,   16,    0,    1,    1],\n",
       "        [  27,   46, 4265,   76, 1230,   22,  106,    0,  228,    0],\n",
       "        [ 234,  205,  157, 5078,  265,    1,   41,    0,   19,    0],\n",
       "        [   7,   75, 1574,  460, 3728,   13,   28,    0,  114,    1],\n",
       "        [   1,    4,    3,    7,    4, 4957,    1,  822,   47,  154],\n",
       "        [1166,   73, 3087,  464,  756,   11,  243,    0,  200,    0],\n",
       "        [   0,    0,    0,    0,    0,  370,    0, 5251,   12,  367],\n",
       "        [  12,   12,  294,   78,   53,   50,   19,   30, 5449,    3],\n",
       "        [   0,    0,    0,    3,    0,  113,    1,  539,    9, 5335]], dtype=torch.int32)"
      ]
     },
     "execution_count": 29,
     "metadata": {},
     "output_type": "execute_result"
    }
   ],
   "source": [
    "# Creating 10x10 confusion matrix\n",
    "\n",
    "cmt = torch.zeros(10,10,dtype=torch.int32)\n",
    "for p in stacked:\n",
    "    j,k = p.tolist()\n",
    "    cmt[j,k]=cmt[j,k]+1\n",
    "\n",
    "cmt"
   ]
  },
  {
   "cell_type": "code",
   "execution_count": 30,
   "metadata": {},
   "outputs": [],
   "source": [
    "def plot_confusion_matrix(cm, classes,\n",
    "                          normalize=False,\n",
    "                          title='Confusion matrix',\n",
    "                          cmap=plt.cm.Blues):\n",
    "    \"\"\"\n",
    "    This function prints and plots the confusion matrix.\n",
    "    Normalization can be applied by setting `normalize=True`.\n",
    "    \"\"\"\n",
    "    if normalize:\n",
    "        cm = cm.astype('float') / cm.sum(axis=1)[:, np.newaxis]\n",
    "        print(\"Normalized confusion matrix\")\n",
    "    else:\n",
    "        print('Confusion matrix, without normalization')\n",
    "\n",
    "    plt.imshow(cm, interpolation='nearest', cmap=cmap)\n",
    "    plt.title(title)\n",
    "    plt.colorbar()\n",
    "    tick_marks = np.arange(len(classes))\n",
    "    plt.xticks(tick_marks, classes, rotation=45)\n",
    "    plt.yticks(tick_marks, classes)\n",
    "\n",
    "    fmt = '.2f' if normalize else 'd'\n",
    "    thresh = cm.max() / 2.\n",
    "    for i in range (cm.shape[0]):\n",
    "        for j in range (cm.shape[1]):\n",
    "            plt.text(j, i, format(cm[i, j], fmt),\n",
    "                 horizontalalignment=\"center\",\n",
    "                 color=\"white\" if cm[i, j] > thresh else \"black\")\n",
    "\n",
    "    plt.ylabel('True label')\n",
    "    plt.xlabel('Predicted label')\n",
    "    plt.tight_layout()\n",
    "\n",
    "np.set_printoptions(precision=2)"
   ]
  },
  {
   "cell_type": "code",
   "execution_count": 31,
   "metadata": {},
   "outputs": [
    {
     "name": "stdout",
     "output_type": "stream",
     "text": [
      "Confusion matrix, without normalization\n"
     ]
    },
    {
     "data": {
      "image/png": "[encoded data removed]",
      "text/plain": [
       "<Figure size 1080x1080 with 2 Axes>"
      ]
     },
     "metadata": {
      "needs_background": "light"
     },
     "output_type": "display_data"
    }
   ],
   "source": [
    "names = ('T-shirt/top','Trouser','Pullover','Dress','Coat','Sandal','Shirt','Sneaker','Bag','Ankle boot')\n",
    "plt.figure(figsize=(15,15));\n",
    "plot_confusion_matrix(cmt, classes=names,\n",
    "                      title='Confusion matrix, without normalization');"
   ]
  },
  {
   "cell_type": "markdown",
   "metadata": {},
   "source": [
    "### PyTorch & Tensorboard"
   ]
  },
  {
   "cell_type": "code",
   "execution_count": 13,
   "metadata": {},
   "outputs": [],
   "source": [
    "#  Plotting one batch of 100 images on Tensorboard\n",
    "train_loader = torch.utils.data.DataLoader(train,batch_size=100)\n",
    "writer = SummaryWriter('C:/important_files/log/log_summary') # directory to the event file\n",
    "network = Network()\n",
    "images, labels = next(iter(train_loader))\n",
    "grid = torchvision.utils.make_grid(images)\n",
    "writer.add_image('images', grid, 0, walltime=None, dataformats='CHW')\n",
    "writer.add_graph(network, images)\n",
    "writer.close()"
   ]
  },
  {
   "cell_type": "code",
   "execution_count": 24,
   "metadata": {},
   "outputs": [
    {
     "name": "stdout",
     "output_type": "stream",
     "text": [
      "Epoch:0. Loss: 775.6401156783104. Accuracy: 54.44166666666667. Total_Correct: 32665.\n",
      "Epoch:1. Loss: 510.52538853883743. Accuracy: 67.52333333333333. Total_Correct: 40514.\n",
      "Epoch:2. Loss: 451.4833643436432. Accuracy: 71.25. Total_Correct: 42750.\n",
      "Epoch:3. Loss: 415.4904209971428. Accuracy: 73.695. Total_Correct: 44217.\n",
      "Epoch:4. Loss: 388.81980046629906. Accuracy: 75.475. Total_Correct: 45285.\n"
     ]
    }
   ],
   "source": [
    "# Adding CNN data to tensorflow\n",
    "epochs= 5\n",
    "criterion = nn.CrossEntropyLoss()\n",
    "optimizer = torch.optim.SGD(network.parameters(), lr=0.01) \n",
    "train_loader = torch.utils.data.DataLoader(train,batch_size=100)\n",
    "images, labels = next(iter(train_loader))\n",
    "grid = torchvision.utils.make_grid(images)\n",
    "\n",
    "writer = SummaryWriter('C:/important_files/log/log_summary') # directory to the event file\n",
    "writer.add_image('images', grid, 0, walltime=None, dataformats='CHW')\n",
    "writer.add_graph(network, images)\n",
    "writer.close()\n",
    "\n",
    "for epoch in range(epochs):\n",
    "    \n",
    "    total_loss=0\n",
    "    total_correct=0\n",
    "    \n",
    "    for batch in train_loader: # Get Batch\n",
    "        \n",
    "        # Load images\n",
    "        images,labels = batch\n",
    "        \n",
    "        # Clear gradients w.r.t. parameters\n",
    "        optimizer.zero_grad()\n",
    "        \n",
    "        # Forward pass to get output/logits\n",
    "        output = network(images) # Pass Batch\n",
    "        \n",
    "        # Calculate Loss: softmax --> cross entropy loss\n",
    "        loss=criterion(output,labels)\n",
    "        \n",
    "        # Getting gradients w.r.t. parameters\n",
    "        loss.backward()\n",
    "        \n",
    "        # Updating parameters\n",
    "        optimizer.step()\n",
    "        \n",
    "        #Get predictions from the maximum value\n",
    "        total_correct += get_correct_pred(output,labels)\n",
    "        total_loss += loss.item()\n",
    "        \n",
    "    writer.add_scalar('Loss',total_loss,epoch)\n",
    "    writer.add_scalar('Number Correct',total_correct,epoch)\n",
    "    writer.add_scalar('Accuracy',total_correct*100/len(train),epoch)\n",
    "    \n",
    "    writer.add_histogram('conv1.bias',network.conv1.bias,epoch)\n",
    "    writer.add_histogram('conv1.weight',network.conv1.weight,epoch)\n",
    "    writer.add_histogram('conv1.weight.grad',network.conv1.weight.grad,epoch)\n",
    "    accuracy = 100 * total_correct / len(train)\n",
    "    print('Epoch:{}. Loss: {}. Accuracy: {}. Total_Correct: {}.'.format(epoch, total_loss, accuracy, total_correct))\n",
    "    \n",
    "writer.close()"
   ]
  },
  {
   "cell_type": "code",
   "execution_count": 40,
   "metadata": {},
   "outputs": [
    {
     "name": "stdout",
     "output_type": "stream",
     "text": [
      "The tensorboard extension is already loaded. To reload it, use:\n",
      "  %reload_ext tensorboard\n"
     ]
    },
    {
     "data": {
      "text/plain": [
       "Reusing TensorBoard on port 8090 (pid 2160), started 0:01:04 ago. (Use '!kill 2160' to kill it.)"
      ]
     },
     "metadata": {},
     "output_type": "display_data"
    },
    {
     "data": {
      "text/html": [
       "\n",
       "      <iframe id=\"tensorboard-frame-efdcfbe71b6f8ef5\" width=\"100%\" height=\"800\" frameborder=\"0\">\n",
       "      </iframe>\n",
       "      <script>\n",
       "        (function() {\n",
       "          const frame = document.getElementById(\"tensorboard-frame-efdcfbe71b6f8ef5\");\n",
       "          const url = new URL(\"/\", window.location);\n",
       "          url.port = 8090;\n",
       "          frame.src = url;\n",
       "        })();\n",
       "      </script>\n",
       "  "
      ],
      "text/plain": [
       "<IPython.core.display.HTML object>"
      ]
     },
     "metadata": {},
     "output_type": "display_data"
    }
   ],
   "source": [
    "%load_ext tensorboard\n",
    "%tensorboard --logdir C:/important_files/log/log_summary --port 8090"
   ]
  },
  {
   "cell_type": "markdown",
   "metadata": {},
   "source": [
    "### Hyperparameter Tuning "
   ]
  },
  {
   "cell_type": "code",
   "execution_count": 26,
   "metadata": {},
   "outputs": [],
   "source": [
    "from itertools import product"
   ]
  },
  {
   "cell_type": "code",
   "execution_count": 34,
   "metadata": {},
   "outputs": [
    {
     "name": "stdout",
     "output_type": "stream",
     "text": [
      "0.01 10 True\n",
      "0.01 10 False\n",
      "0.01 100 True\n",
      "0.01 100 False\n",
      "0.001 10 True\n",
      "0.001 10 False\n",
      "0.001 100 True\n",
      "0.001 100 False\n"
     ]
    }
   ],
   "source": [
    "# Creating a parameter dictionary\n",
    "parameters = dict(\n",
    "lr = [0.01,0.001]\n",
    ",batch_size =[10,100]\n",
    ",shuffle =[True,False]\n",
    ")\n",
    "\n",
    "# Creating a cartesian product of all values\n",
    "param_values = [v for v in parameters.values()]\n",
    "for lr, batch_size, shuffle in product(*param_values):\n",
    "    print(lr,batch_size,shuffle)"
   ]
  },
  {
   "cell_type": "code",
   "execution_count": 38,
   "metadata": {},
   "outputs": [
    {
     "name": "stdout",
     "output_type": "stream",
     "text": [
      "Epoch:0. Loss: 15527.318308112444. Accuracy: 90.43166666666667. Total_Correct: 54259. Lr:0.01. Batch_size:10. Shuffle:True.\n",
      "Epoch:1. Loss: 15078.281813163194. Accuracy: 90.67666666666666. Total_Correct: 54406. Lr:0.01. Batch_size:10. Shuffle:True.\n",
      "Epoch:2. Loss: 14665.04998592136. Accuracy: 90.97. Total_Correct: 54582. Lr:0.01. Batch_size:10. Shuffle:True.\n",
      "Epoch:3. Loss: 14265.35836710129. Accuracy: 91.23166666666667. Total_Correct: 54739. Lr:0.01. Batch_size:10. Shuffle:True.\n",
      "Epoch:4. Loss: 13905.176757046138. Accuracy: 91.41. Total_Correct: 54846. Lr:0.01. Batch_size:10. Shuffle:True.\n",
      "Epoch:0. Loss: 13538.831863292726. Accuracy: 91.61833333333334. Total_Correct: 54971. Lr:0.01. Batch_size:10. Shuffle:False.\n",
      "Epoch:1. Loss: 13219.291755487793. Accuracy: 91.89333333333333. Total_Correct: 55136. Lr:0.01. Batch_size:10. Shuffle:False.\n",
      "Epoch:2. Loss: 12873.662093482271. Accuracy: 92.13166666666666. Total_Correct: 55279. Lr:0.01. Batch_size:10. Shuffle:False.\n",
      "Epoch:3. Loss: 12557.014181857521. Accuracy: 92.31666666666666. Total_Correct: 55390. Lr:0.01. Batch_size:10. Shuffle:False.\n",
      "Epoch:4. Loss: 12296.952138077322. Accuracy: 92.52166666666666. Total_Correct: 55513. Lr:0.01. Batch_size:10. Shuffle:False.\n",
      "Epoch:0. Loss: 10905.722806230187. Accuracy: 93.19833333333334. Total_Correct: 55919. Lr:0.01. Batch_size:100. Shuffle:True.\n",
      "Epoch:1. Loss: 10424.58324804902. Accuracy: 93.56666666666666. Total_Correct: 56140. Lr:0.01. Batch_size:100. Shuffle:True.\n",
      "Epoch:2. Loss: 10245.232385769486. Accuracy: 93.68166666666667. Total_Correct: 56209. Lr:0.01. Batch_size:100. Shuffle:True.\n",
      "Epoch:3. Loss: 10103.741786628962. Accuracy: 93.77. Total_Correct: 56262. Lr:0.01. Batch_size:100. Shuffle:True.\n",
      "Epoch:4. Loss: 9985.711855441332. Accuracy: 93.87166666666667. Total_Correct: 56323. Lr:0.01. Batch_size:100. Shuffle:True.\n",
      "Epoch:0. Loss: 9882.014070823789. Accuracy: 93.92333333333333. Total_Correct: 56354. Lr:0.01. Batch_size:100. Shuffle:False.\n",
      "Epoch:1. Loss: 9785.021287947893. Accuracy: 93.98. Total_Correct: 56388. Lr:0.01. Batch_size:100. Shuffle:False.\n",
      "Epoch:2. Loss: 9694.838016480207. Accuracy: 94.035. Total_Correct: 56421. Lr:0.01. Batch_size:100. Shuffle:False.\n",
      "Epoch:3. Loss: 9609.717502444983. Accuracy: 94.08166666666666. Total_Correct: 56449. Lr:0.01. Batch_size:100. Shuffle:False.\n",
      "Epoch:4. Loss: 9529.964783415198. Accuracy: 94.14. Total_Correct: 56484. Lr:0.01. Batch_size:100. Shuffle:False.\n",
      "Epoch:0. Loss: 9427.011450595164. Accuracy: 94.24. Total_Correct: 56544. Lr:0.001. Batch_size:10. Shuffle:True.\n",
      "Epoch:1. Loss: 9346.504082744068. Accuracy: 94.31. Total_Correct: 56586. Lr:0.001. Batch_size:10. Shuffle:True.\n",
      "Epoch:2. Loss: 9273.737059405175. Accuracy: 94.35. Total_Correct: 56610. Lr:0.001. Batch_size:10. Shuffle:True.\n",
      "Epoch:3. Loss: 9200.612210537074. Accuracy: 94.39. Total_Correct: 56634. Lr:0.001. Batch_size:10. Shuffle:True.\n",
      "Epoch:4. Loss: 9129.587512845974. Accuracy: 94.44333333333333. Total_Correct: 56666. Lr:0.001. Batch_size:10. Shuffle:True.\n",
      "Epoch:0. Loss: 9058.390109736501. Accuracy: 94.495. Total_Correct: 56697. Lr:0.001. Batch_size:10. Shuffle:False.\n",
      "Epoch:1. Loss: 8988.469582971302. Accuracy: 94.54333333333334. Total_Correct: 56726. Lr:0.001. Batch_size:10. Shuffle:False.\n",
      "Epoch:2. Loss: 8923.704387633843. Accuracy: 94.56. Total_Correct: 56736. Lr:0.001. Batch_size:10. Shuffle:False.\n",
      "Epoch:3. Loss: 8857.354446389363. Accuracy: 94.615. Total_Correct: 56769. Lr:0.001. Batch_size:10. Shuffle:False.\n",
      "Epoch:4. Loss: 8791.533647277356. Accuracy: 94.66. Total_Correct: 56796. Lr:0.001. Batch_size:10. Shuffle:False.\n",
      "Epoch:0. Loss: 8767.815121635795. Accuracy: 94.60666666666667. Total_Correct: 56764. Lr:0.001. Batch_size:100. Shuffle:True.\n",
      "Epoch:1. Loss: 8647.218537330627. Accuracy: 94.75833333333334. Total_Correct: 56855. Lr:0.001. Batch_size:100. Shuffle:True.\n",
      "Epoch:2. Loss: 8619.21280771494. Accuracy: 94.79. Total_Correct: 56874. Lr:0.001. Batch_size:100. Shuffle:True.\n",
      "Epoch:3. Loss: 8600.967720896006. Accuracy: 94.82166666666667. Total_Correct: 56893. Lr:0.001. Batch_size:100. Shuffle:True.\n",
      "Epoch:4. Loss: 8587.21693456173. Accuracy: 94.825. Total_Correct: 56895. Lr:0.001. Batch_size:100. Shuffle:True.\n",
      "Epoch:0. Loss: 8574.239434674382. Accuracy: 94.84333333333333. Total_Correct: 56906. Lr:0.001. Batch_size:100. Shuffle:False.\n",
      "Epoch:1. Loss: 8562.155017256737. Accuracy: 94.84666666666666. Total_Correct: 56908. Lr:0.001. Batch_size:100. Shuffle:False.\n",
      "Epoch:2. Loss: 8550.939983129501. Accuracy: 94.865. Total_Correct: 56919. Lr:0.001. Batch_size:100. Shuffle:False.\n",
      "Epoch:3. Loss: 8539.462280645967. Accuracy: 94.875. Total_Correct: 56925. Lr:0.001. Batch_size:100. Shuffle:False.\n",
      "Epoch:4. Loss: 8528.694758191705. Accuracy: 94.88166666666666. Total_Correct: 56929. Lr:0.001. Batch_size:100. Shuffle:False.\n"
     ]
    }
   ],
   "source": [
    "# Adding CNN data to tensorflow\n",
    "epochs= 5\n",
    "criterion = nn.CrossEntropyLoss()\n",
    "\n",
    "for lr, batch_size, shuffle in product(*param_values):\n",
    "    \n",
    "    optimizer = torch.optim.SGD(network.parameters(), lr=lr) \n",
    "    train_loader = torch.utils.data.DataLoader(train,batch_size=batch_size)\n",
    "    \n",
    "    comment = f' batch_size={batch_size} lr ={lr} shuffle = {shuffle}'\n",
    "    writer = SummaryWriter('C:\\important_files\\log\\log_summary',comment=comment) # directory to the event file\n",
    "\n",
    "    for epoch in range(epochs):\n",
    "    \n",
    "        total_loss=0\n",
    "        total_correct=0\n",
    "    \n",
    "        for batch in train_loader: # Get Batch\n",
    "        \n",
    "            # Load images\n",
    "            images,labels = batch\n",
    "        \n",
    "            # Clear gradients w.r.t. parameters\n",
    "            optimizer.zero_grad()\n",
    "        \n",
    "            # Forward pass to get output/logits\n",
    "            output = network(images) # Pass Batch\n",
    "        \n",
    "            # Calculate Loss: softmax --> cross entropy loss\n",
    "            loss=criterion(output,labels)\n",
    "        \n",
    "            # Getting gradients w.r.t. parameters\n",
    "            loss.backward()\n",
    "        \n",
    "            # Updating parameters\n",
    "            optimizer.step()\n",
    "        \n",
    "            #Get predictions from the maximum value\n",
    "            total_correct += get_correct_pred(output,labels)\n",
    "            total_loss += loss.item() * batch_size\n",
    "        \n",
    "        writer.add_scalar('Loss',total_loss,epoch)\n",
    "        writer.add_scalar('Number Correct',total_correct,epoch)\n",
    "        writer.add_scalar('Accuracy',total_correct*100/len(train),epoch)\n",
    "    \n",
    "        writer.add_histogram('conv1.bias',network.conv1.bias,epoch)\n",
    "        writer.add_histogram('conv1.weight',network.conv1.weight,epoch)\n",
    "        writer.add_histogram('conv1.weight.grad',network.conv1.weight.grad,epoch)\n",
    "        accuracy = 100 * total_correct / len(train)\n",
    "        print('Epoch:{}. Loss: {}. Accuracy: {}. Total_Correct: {}. Lr:{}. Batch_size:{}. Shuffle:{}.'.format(epoch, total_loss, accuracy, total_correct,lr,batch_size,shuffle))\n",
    "    \n",
    "writer.close()"
   ]
  },
  {
   "cell_type": "code",
   "execution_count": 41,
   "metadata": {},
   "outputs": [
    {
     "name": "stdout",
     "output_type": "stream",
     "text": [
      "The tensorboard extension is already loaded. To reload it, use:\n",
      "  %reload_ext tensorboard\n"
     ]
    },
    {
     "data": {
      "text/plain": [
       "Reusing TensorBoard on port 8090 (pid 2160), started 0:01:50 ago. (Use '!kill 2160' to kill it.)"
      ]
     },
     "metadata": {},
     "output_type": "display_data"
    },
    {
     "data": {
      "text/html": [
       "\n",
       "      <iframe id=\"tensorboard-frame-67a85f736a7e6ce0\" width=\"100%\" height=\"800\" frameborder=\"0\">\n",
       "      </iframe>\n",
       "      <script>\n",
       "        (function() {\n",
       "          const frame = document.getElementById(\"tensorboard-frame-67a85f736a7e6ce0\");\n",
       "          const url = new URL(\"/\", window.location);\n",
       "          url.port = 8090;\n",
       "          frame.src = url;\n",
       "        })();\n",
       "      </script>\n",
       "  "
      ],
      "text/plain": [
       "<IPython.core.display.HTML object>"
      ]
     },
     "metadata": {},
     "output_type": "display_data"
    }
   ],
   "source": [
    "%load_ext tensorboard\n",
    "%tensorboard --logdir C:/important_files/log/log_summary --port 8090"
   ]
  }
 ],
 "metadata": {
  "kernelspec": {
   "display_name": "Python 3",
   "language": "python",
   "name": "python3"
  },
  "language_info": {
   "codemirror_mode": {
    "name": "ipython",
    "version": 3
   },
   "file_extension": ".py",
   "mimetype": "text/x-python",
   "name": "python",
   "nbconvert_exporter": "python",
   "pygments_lexer": "ipython3",
   "version": "3.7.4"
  }
 },
 "nbformat": 4,
 "nbformat_minor": 4
}
